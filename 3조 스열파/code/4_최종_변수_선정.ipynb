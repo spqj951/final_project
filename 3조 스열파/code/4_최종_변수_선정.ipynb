{
  "nbformat": 4,
  "nbformat_minor": 0,
  "metadata": {
    "colab": {
      "name": "4. 최종 변수 선택완료.ipynb",
      "provenance": [],
      "collapsed_sections": []
    },
    "kernelspec": {
      "name": "python3",
      "display_name": "Python 3"
    },
    "language_info": {
      "name": "python"
    }
  },
  "cells": [
    {
      "cell_type": "markdown",
      "source": [
        "<변수 선택 Process>\n",
        "\n",
        "1. 등분산성을 고려한 t-test를 통한 변수 선정) 46 -> 19\n",
        "2. 전진선택/후진소거/단계별선택) 19 -> 9\n",
        "3. 다중공선성을 고려하여 최종 변수 선택) 9 -> 9"
      ],
      "metadata": {
        "id": "nqZIiSPiqfio"
      }
    },
    {
      "cell_type": "code",
      "source": [
        "from google.colab import drive\n",
        "drive.mount('/content/drive')"
      ],
      "metadata": {
        "id": "b2eK8LZV-8Vk",
        "colab": {
          "base_uri": "https://localhost:8080/"
        },
        "outputId": "a8d2e68d-a96c-4d9e-d322-806bbc3dcbec"
      },
      "execution_count": null,
      "outputs": [
        {
          "output_type": "stream",
          "name": "stdout",
          "text": [
            "Mounted at /content/drive\n"
          ]
        }
      ]
    },
    {
      "cell_type": "code",
      "source": [
        "cd /content/drive/MyDrive/금융빅데이터분석가/기업 부실 예측/data"
      ],
      "metadata": {
        "id": "-LX9opdcnkco",
        "colab": {
          "base_uri": "https://localhost:8080/"
        },
        "outputId": "9723ac16-aeea-4968-f9e4-18128ecc82ae"
      },
      "execution_count": null,
      "outputs": [
        {
          "output_type": "stream",
          "name": "stdout",
          "text": [
            "/content/drive/MyDrive/금융빅데이터분석가/기업 부실 예측/data\n"
          ]
        }
      ]
    },
    {
      "cell_type": "code",
      "source": [
        "# 실행 후 런타임 재시작\n",
        "!sudo apt-get install -y fonts-nanum\n",
        "!sudo fc-cache -fv\n",
        "!rm ~/.cache/matplotlib -rf"
      ],
      "metadata": {
        "colab": {
          "base_uri": "https://localhost:8080/"
        },
        "id": "jygdlPkyARjB",
        "outputId": "9800d291-4c59-45f9-fd29-6920aff9a99f"
      },
      "execution_count": null,
      "outputs": [
        {
          "output_type": "stream",
          "name": "stdout",
          "text": [
            "Reading package lists... Done\n",
            "Building dependency tree       \n",
            "Reading state information... Done\n",
            "The following NEW packages will be installed:\n",
            "  fonts-nanum\n",
            "0 upgraded, 1 newly installed, 0 to remove and 37 not upgraded.\n",
            "Need to get 9,604 kB of archives.\n",
            "After this operation, 29.5 MB of additional disk space will be used.\n",
            "Get:1 http://archive.ubuntu.com/ubuntu bionic/universe amd64 fonts-nanum all 20170925-1 [9,604 kB]\n",
            "Fetched 9,604 kB in 1s (7,804 kB/s)\n",
            "debconf: unable to initialize frontend: Dialog\n",
            "debconf: (No usable dialog-like program is installed, so the dialog based frontend cannot be used. at /usr/share/perl5/Debconf/FrontEnd/Dialog.pm line 76, <> line 1.)\n",
            "debconf: falling back to frontend: Readline\n",
            "debconf: unable to initialize frontend: Readline\n",
            "debconf: (This frontend requires a controlling tty.)\n",
            "debconf: falling back to frontend: Teletype\n",
            "dpkg-preconfigure: unable to re-open stdin: \n",
            "Selecting previously unselected package fonts-nanum.\n",
            "(Reading database ... 155222 files and directories currently installed.)\n",
            "Preparing to unpack .../fonts-nanum_20170925-1_all.deb ...\n",
            "Unpacking fonts-nanum (20170925-1) ...\n",
            "Setting up fonts-nanum (20170925-1) ...\n",
            "Processing triggers for fontconfig (2.12.6-0ubuntu2) ...\n",
            "/usr/share/fonts: caching, new cache contents: 0 fonts, 1 dirs\n",
            "/usr/share/fonts/truetype: caching, new cache contents: 0 fonts, 3 dirs\n",
            "/usr/share/fonts/truetype/humor-sans: caching, new cache contents: 1 fonts, 0 dirs\n",
            "/usr/share/fonts/truetype/liberation: caching, new cache contents: 16 fonts, 0 dirs\n",
            "/usr/share/fonts/truetype/nanum: caching, new cache contents: 10 fonts, 0 dirs\n",
            "/usr/local/share/fonts: caching, new cache contents: 0 fonts, 0 dirs\n",
            "/root/.local/share/fonts: skipping, no such directory\n",
            "/root/.fonts: skipping, no such directory\n",
            "/var/cache/fontconfig: cleaning cache directory\n",
            "/root/.cache/fontconfig: not cleaning non-existent cache directory\n",
            "/root/.fontconfig: not cleaning non-existent cache directory\n",
            "fc-cache: succeeded\n"
          ]
        }
      ]
    },
    {
      "cell_type": "code",
      "source": [
        "# 함수 임포트\n",
        "\n",
        "from sklearn.linear_model import Lasso\n",
        "from sklearn.model_selection import train_test_split\n",
        "from sklearn.neighbors import KNeighborsClassifier as KNN\n",
        "from sklearn.metrics import *\n",
        "from sklearn.preprocessing import StandardScaler\n",
        "from sklearn.preprocessing import RobustScaler\n",
        "from sklearn.preprocessing import MinMaxScaler\n",
        "from imblearn.over_sampling import SMOTE\n",
        "from imblearn.over_sampling import BorderlineSMOTE\n",
        "from sklearn.linear_model import LogisticRegression\n",
        "from imblearn.over_sampling import RandomOverSampler\n",
        "from imblearn.under_sampling import RandomUnderSampler\n",
        "from scipy.stats import uniform\n",
        "from sklearn.model_selection import RandomizedSearchCV\n",
        "from sklearn.linear_model import LogisticRegression\n",
        "\n",
        "import seaborn as sns\n",
        "import pandas as pd\n",
        "from sklearn import linear_model\n",
        "import matplotlib.pyplot as plt\n",
        "import numpy as np\n",
        "\n",
        "import warnings\n",
        "warnings.filterwarnings(action='ignore')\n",
        "import statsmodels.api as sm\n",
        "from statsmodels.api import add_constant "
      ],
      "metadata": {
        "id": "7PFfYTcx1ZWX"
      },
      "execution_count": null,
      "outputs": []
    },
    {
      "cell_type": "code",
      "execution_count": null,
      "metadata": {
        "colab": {
          "base_uri": "https://localhost:8080/",
          "height": 721
        },
        "id": "XbihtSogqUlY",
        "outputId": "a8407cbf-fafb-44e8-9cb9-452d7f9fcd45"
      },
      "outputs": [
        {
          "output_type": "execute_result",
          "data": {
            "text/html": [
              "\n",
              "  <div id=\"df-1da38fef-e84e-48bc-9e24-78aa972ab037\">\n",
              "    <div class=\"colab-df-container\">\n",
              "      <div>\n",
              "<style scoped>\n",
              "    .dataframe tbody tr th:only-of-type {\n",
              "        vertical-align: middle;\n",
              "    }\n",
              "\n",
              "    .dataframe tbody tr th {\n",
              "        vertical-align: top;\n",
              "    }\n",
              "\n",
              "    .dataframe thead th {\n",
              "        text-align: right;\n",
              "    }\n",
              "</style>\n",
              "<table border=\"1\" class=\"dataframe\">\n",
              "  <thead>\n",
              "    <tr style=\"text-align: right;\">\n",
              "      <th></th>\n",
              "      <th>index</th>\n",
              "      <th>회사명</th>\n",
              "      <th>거래소코드</th>\n",
              "      <th>회계년도</th>\n",
              "      <th>총자본순이익률</th>\n",
              "      <th>총자본영업이익률</th>\n",
              "      <th>자기자본순이익률</th>\n",
              "      <th>매출액총이익률</th>\n",
              "      <th>매출액영업이익률</th>\n",
              "      <th>금융비용부담률</th>\n",
              "      <th>자기자본비율</th>\n",
              "      <th>부채비율</th>\n",
              "      <th>유동비율</th>\n",
              "      <th>당좌비율</th>\n",
              "      <th>차입금의존도</th>\n",
              "      <th>비유동장기적합률</th>\n",
              "      <th>총자본회전률</th>\n",
              "      <th>자기자본회전률</th>\n",
              "      <th>운전자본회전률</th>\n",
              "      <th>매출채권회전률</th>\n",
              "      <th>재고자산회전률</th>\n",
              "      <th>매입채무회전률</th>\n",
              "      <th>총자본증가율</th>\n",
              "      <th>유동자산증가율</th>\n",
              "      <th>매출액증가율</th>\n",
              "      <th>순이익증가율</th>\n",
              "      <th>자기자본증가율</th>\n",
              "      <th>CASH FLOW 대 부채비율</th>\n",
              "      <th>CASH FLOW 대 매출액비율</th>\n",
              "      <th>유형자산증가율</th>\n",
              "      <th>차입금비율</th>\n",
              "      <th>영업이익(손실)(천원)</th>\n",
              "      <th>법인세비용차감전(계속사업)손익(천원)</th>\n",
              "      <th>자산(*)(천원)</th>\n",
              "      <th>자본(*)(천원)</th>\n",
              "      <th>비유동자산(*)(천원)</th>\n",
              "      <th>현금 및 현금성자산(*)(천원)</th>\n",
              "      <th>유동부채(*)(천원)</th>\n",
              "      <th>영업활동으로 인한 현금흐름(*)(천원)</th>\n",
              "      <th>매출액(영업수익)(*)(천원)</th>\n",
              "      <th>당기순이익(손실)(천원)</th>\n",
              "      <th>부도여부</th>\n",
              "      <th>총자산순이익률</th>\n",
              "      <th>총자산영업이익률</th>\n",
              "      <th>고정비율</th>\n",
              "      <th>현금비율</th>\n",
              "      <th>ocf 대 유동부채</th>\n",
              "      <th>총자산회전율</th>\n",
              "      <th>총자산증가율</th>\n",
              "    </tr>\n",
              "  </thead>\n",
              "  <tbody>\n",
              "    <tr>\n",
              "      <th>1</th>\n",
              "      <td>13917</td>\n",
              "      <td>동화약품(주)</td>\n",
              "      <td>20</td>\n",
              "      <td>2007</td>\n",
              "      <td>4.13</td>\n",
              "      <td>7.26</td>\n",
              "      <td>5.09</td>\n",
              "      <td>48.87</td>\n",
              "      <td>9.53</td>\n",
              "      <td>-1.49</td>\n",
              "      <td>576.40</td>\n",
              "      <td>22.95</td>\n",
              "      <td>509.94</td>\n",
              "      <td>441.93</td>\n",
              "      <td>4.93</td>\n",
              "      <td>37.87</td>\n",
              "      <td>0.76</td>\n",
              "      <td>0.94</td>\n",
              "      <td>0.0</td>\n",
              "      <td>2.86</td>\n",
              "      <td>8.57</td>\n",
              "      <td>34.94</td>\n",
              "      <td>2.76</td>\n",
              "      <td>1.77</td>\n",
              "      <td>-2.67</td>\n",
              "      <td>5.26</td>\n",
              "      <td>3.39</td>\n",
              "      <td>66.89</td>\n",
              "      <td>16.62</td>\n",
              "      <td>3.76</td>\n",
              "      <td>6.06</td>\n",
              "      <td>14171262.0</td>\n",
              "      <td>13519803.0</td>\n",
              "      <td>197948382.0</td>\n",
              "      <td>160998236.0</td>\n",
              "      <td>65095476.0</td>\n",
              "      <td>9428619.0</td>\n",
              "      <td>26052899.0</td>\n",
              "      <td>23185889.0</td>\n",
              "      <td>148738623.0</td>\n",
              "      <td>0.0</td>\n",
              "      <td>0.0</td>\n",
              "      <td>0.000000</td>\n",
              "      <td>0.071591</td>\n",
              "      <td>0.348009</td>\n",
              "      <td>0.361903</td>\n",
              "      <td>0.889954</td>\n",
              "      <td>0.761634</td>\n",
              "      <td>0.027613</td>\n",
              "    </tr>\n",
              "    <tr>\n",
              "      <th>2</th>\n",
              "      <td>13918</td>\n",
              "      <td>동화약품(주)</td>\n",
              "      <td>20</td>\n",
              "      <td>2008</td>\n",
              "      <td>10.28</td>\n",
              "      <td>16.04</td>\n",
              "      <td>12.64</td>\n",
              "      <td>55.66</td>\n",
              "      <td>19.16</td>\n",
              "      <td>-2.06</td>\n",
              "      <td>641.36</td>\n",
              "      <td>23.04</td>\n",
              "      <td>414.24</td>\n",
              "      <td>334.58</td>\n",
              "      <td>2.80</td>\n",
              "      <td>44.83</td>\n",
              "      <td>0.84</td>\n",
              "      <td>1.03</td>\n",
              "      <td>0.0</td>\n",
              "      <td>3.81</td>\n",
              "      <td>7.97</td>\n",
              "      <td>30.28</td>\n",
              "      <td>11.35</td>\n",
              "      <td>2.65</td>\n",
              "      <td>17.74</td>\n",
              "      <td>166.52</td>\n",
              "      <td>11.27</td>\n",
              "      <td>56.73</td>\n",
              "      <td>13.37</td>\n",
              "      <td>33.72</td>\n",
              "      <td>3.44</td>\n",
              "      <td>33544838.0</td>\n",
              "      <td>32871150.0</td>\n",
              "      <td>220422961.0</td>\n",
              "      <td>179141892.0</td>\n",
              "      <td>84053277.0</td>\n",
              "      <td>4677396.0</td>\n",
              "      <td>32920471.0</td>\n",
              "      <td>23655312.0</td>\n",
              "      <td>175119773.0</td>\n",
              "      <td>21495381.0</td>\n",
              "      <td>0.0</td>\n",
              "      <td>0.097519</td>\n",
              "      <td>0.152184</td>\n",
              "      <td>0.396361</td>\n",
              "      <td>0.142082</td>\n",
              "      <td>0.718559</td>\n",
              "      <td>0.837150</td>\n",
              "      <td>0.113538</td>\n",
              "    </tr>\n",
              "    <tr>\n",
              "      <th>3</th>\n",
              "      <td>13919</td>\n",
              "      <td>동화약품(주)</td>\n",
              "      <td>20</td>\n",
              "      <td>2009</td>\n",
              "      <td>10.72</td>\n",
              "      <td>15.03</td>\n",
              "      <td>14.83</td>\n",
              "      <td>55.77</td>\n",
              "      <td>21.19</td>\n",
              "      <td>-1.75</td>\n",
              "      <td>735.24</td>\n",
              "      <td>51.67</td>\n",
              "      <td>158.50</td>\n",
              "      <td>107.06</td>\n",
              "      <td>10.70</td>\n",
              "      <td>79.64</td>\n",
              "      <td>0.71</td>\n",
              "      <td>0.98</td>\n",
              "      <td>0.0</td>\n",
              "      <td>4.15</td>\n",
              "      <td>5.58</td>\n",
              "      <td>28.30</td>\n",
              "      <td>41.31</td>\n",
              "      <td>-6.52</td>\n",
              "      <td>7.70</td>\n",
              "      <td>32.67</td>\n",
              "      <td>14.64</td>\n",
              "      <td>25.83</td>\n",
              "      <td>14.53</td>\n",
              "      <td>136.95</td>\n",
              "      <td>16.23</td>\n",
              "      <td>39963969.0</td>\n",
              "      <td>41461416.0</td>\n",
              "      <td>311472628.0</td>\n",
              "      <td>205363087.0</td>\n",
              "      <td>183993477.0</td>\n",
              "      <td>10967304.0</td>\n",
              "      <td>80426807.0</td>\n",
              "      <td>31155090.0</td>\n",
              "      <td>188607515.0</td>\n",
              "      <td>28518530.0</td>\n",
              "      <td>0.0</td>\n",
              "      <td>0.091560</td>\n",
              "      <td>0.128307</td>\n",
              "      <td>0.643807</td>\n",
              "      <td>0.136364</td>\n",
              "      <td>0.387372</td>\n",
              "      <td>0.709190</td>\n",
              "      <td>0.413068</td>\n",
              "    </tr>\n",
              "    <tr>\n",
              "      <th>4</th>\n",
              "      <td>13913</td>\n",
              "      <td>동화약품(주)</td>\n",
              "      <td>20</td>\n",
              "      <td>2010</td>\n",
              "      <td>1.68</td>\n",
              "      <td>3.18</td>\n",
              "      <td>2.54</td>\n",
              "      <td>43.57</td>\n",
              "      <td>4.79</td>\n",
              "      <td>0.68</td>\n",
              "      <td>765.86</td>\n",
              "      <td>51.47</td>\n",
              "      <td>147.41</td>\n",
              "      <td>100.19</td>\n",
              "      <td>13.12</td>\n",
              "      <td>83.76</td>\n",
              "      <td>0.66</td>\n",
              "      <td>1.01</td>\n",
              "      <td>0.0</td>\n",
              "      <td>3.74</td>\n",
              "      <td>5.52</td>\n",
              "      <td>12.01</td>\n",
              "      <td>0.00</td>\n",
              "      <td>0.00</td>\n",
              "      <td>0.00</td>\n",
              "      <td>0.00</td>\n",
              "      <td>0.00</td>\n",
              "      <td>16.88</td>\n",
              "      <td>8.63</td>\n",
              "      <td>0.00</td>\n",
              "      <td>19.87</td>\n",
              "      <td>10317239.0</td>\n",
              "      <td>5430195.0</td>\n",
              "      <td>324009899.0</td>\n",
              "      <td>213915026.0</td>\n",
              "      <td>202168003.0</td>\n",
              "      <td>18140995.0</td>\n",
              "      <td>82657565.0</td>\n",
              "      <td>18587828.0</td>\n",
              "      <td>215279424.0</td>\n",
              "      <td>5427207.0</td>\n",
              "      <td>0.0</td>\n",
              "      <td>0.016750</td>\n",
              "      <td>0.031842</td>\n",
              "      <td>0.681681</td>\n",
              "      <td>0.219472</td>\n",
              "      <td>0.224878</td>\n",
              "      <td>0.677531</td>\n",
              "      <td>0.040252</td>\n",
              "    </tr>\n",
              "    <tr>\n",
              "      <th>5</th>\n",
              "      <td>13912</td>\n",
              "      <td>동화약품(주)</td>\n",
              "      <td>20</td>\n",
              "      <td>2011</td>\n",
              "      <td>5.33</td>\n",
              "      <td>7.72</td>\n",
              "      <td>7.97</td>\n",
              "      <td>46.01</td>\n",
              "      <td>10.92</td>\n",
              "      <td>0.46</td>\n",
              "      <td>822.10</td>\n",
              "      <td>47.82</td>\n",
              "      <td>150.60</td>\n",
              "      <td>114.00</td>\n",
              "      <td>2.95</td>\n",
              "      <td>82.33</td>\n",
              "      <td>0.71</td>\n",
              "      <td>1.06</td>\n",
              "      <td>0.0</td>\n",
              "      <td>4.05</td>\n",
              "      <td>6.59</td>\n",
              "      <td>11.73</td>\n",
              "      <td>4.76</td>\n",
              "      <td>8.60</td>\n",
              "      <td>8.96</td>\n",
              "      <td>225.75</td>\n",
              "      <td>7.34</td>\n",
              "      <td>29.52</td>\n",
              "      <td>13.82</td>\n",
              "      <td>26.12</td>\n",
              "      <td>4.35</td>\n",
              "      <td>25621666.0</td>\n",
              "      <td>19033095.0</td>\n",
              "      <td>339431477.0</td>\n",
              "      <td>229623874.0</td>\n",
              "      <td>207110122.0</td>\n",
              "      <td>35134387.0</td>\n",
              "      <td>87860192.0</td>\n",
              "      <td>46244032.0</td>\n",
              "      <td>234561984.0</td>\n",
              "      <td>17679223.0</td>\n",
              "      <td>0.0</td>\n",
              "      <td>0.052085</td>\n",
              "      <td>0.075484</td>\n",
              "      <td>0.652348</td>\n",
              "      <td>0.399890</td>\n",
              "      <td>0.526337</td>\n",
              "      <td>0.707107</td>\n",
              "      <td>0.047596</td>\n",
              "    </tr>\n",
              "  </tbody>\n",
              "</table>\n",
              "</div>\n",
              "      <button class=\"colab-df-convert\" onclick=\"convertToInteractive('df-1da38fef-e84e-48bc-9e24-78aa972ab037')\"\n",
              "              title=\"Convert this dataframe to an interactive table.\"\n",
              "              style=\"display:none;\">\n",
              "        \n",
              "  <svg xmlns=\"http://www.w3.org/2000/svg\" height=\"24px\"viewBox=\"0 0 24 24\"\n",
              "       width=\"24px\">\n",
              "    <path d=\"M0 0h24v24H0V0z\" fill=\"none\"/>\n",
              "    <path d=\"M18.56 5.44l.94 2.06.94-2.06 2.06-.94-2.06-.94-.94-2.06-.94 2.06-2.06.94zm-11 1L8.5 8.5l.94-2.06 2.06-.94-2.06-.94L8.5 2.5l-.94 2.06-2.06.94zm10 10l.94 2.06.94-2.06 2.06-.94-2.06-.94-.94-2.06-.94 2.06-2.06.94z\"/><path d=\"M17.41 7.96l-1.37-1.37c-.4-.4-.92-.59-1.43-.59-.52 0-1.04.2-1.43.59L10.3 9.45l-7.72 7.72c-.78.78-.78 2.05 0 2.83L4 21.41c.39.39.9.59 1.41.59.51 0 1.02-.2 1.41-.59l7.78-7.78 2.81-2.81c.8-.78.8-2.07 0-2.86zM5.41 20L4 18.59l7.72-7.72 1.47 1.35L5.41 20z\"/>\n",
              "  </svg>\n",
              "      </button>\n",
              "      \n",
              "  <style>\n",
              "    .colab-df-container {\n",
              "      display:flex;\n",
              "      flex-wrap:wrap;\n",
              "      gap: 12px;\n",
              "    }\n",
              "\n",
              "    .colab-df-convert {\n",
              "      background-color: #E8F0FE;\n",
              "      border: none;\n",
              "      border-radius: 50%;\n",
              "      cursor: pointer;\n",
              "      display: none;\n",
              "      fill: #1967D2;\n",
              "      height: 32px;\n",
              "      padding: 0 0 0 0;\n",
              "      width: 32px;\n",
              "    }\n",
              "\n",
              "    .colab-df-convert:hover {\n",
              "      background-color: #E2EBFA;\n",
              "      box-shadow: 0px 1px 2px rgba(60, 64, 67, 0.3), 0px 1px 3px 1px rgba(60, 64, 67, 0.15);\n",
              "      fill: #174EA6;\n",
              "    }\n",
              "\n",
              "    [theme=dark] .colab-df-convert {\n",
              "      background-color: #3B4455;\n",
              "      fill: #D2E3FC;\n",
              "    }\n",
              "\n",
              "    [theme=dark] .colab-df-convert:hover {\n",
              "      background-color: #434B5C;\n",
              "      box-shadow: 0px 1px 3px 1px rgba(0, 0, 0, 0.15);\n",
              "      filter: drop-shadow(0px 1px 2px rgba(0, 0, 0, 0.3));\n",
              "      fill: #FFFFFF;\n",
              "    }\n",
              "  </style>\n",
              "\n",
              "      <script>\n",
              "        const buttonEl =\n",
              "          document.querySelector('#df-1da38fef-e84e-48bc-9e24-78aa972ab037 button.colab-df-convert');\n",
              "        buttonEl.style.display =\n",
              "          google.colab.kernel.accessAllowed ? 'block' : 'none';\n",
              "\n",
              "        async function convertToInteractive(key) {\n",
              "          const element = document.querySelector('#df-1da38fef-e84e-48bc-9e24-78aa972ab037');\n",
              "          const dataTable =\n",
              "            await google.colab.kernel.invokeFunction('convertToInteractive',\n",
              "                                                     [key], {});\n",
              "          if (!dataTable) return;\n",
              "\n",
              "          const docLinkHtml = 'Like what you see? Visit the ' +\n",
              "            '<a target=\"_blank\" href=https://colab.research.google.com/notebooks/data_table.ipynb>data table notebook</a>'\n",
              "            + ' to learn more about interactive tables.';\n",
              "          element.innerHTML = '';\n",
              "          dataTable['output_type'] = 'display_data';\n",
              "          await google.colab.output.renderOutput(dataTable, element);\n",
              "          const docLink = document.createElement('div');\n",
              "          docLink.innerHTML = docLinkHtml;\n",
              "          element.appendChild(docLink);\n",
              "        }\n",
              "      </script>\n",
              "    </div>\n",
              "  </div>\n",
              "  "
            ],
            "text/plain": [
              "   index      회사명  거래소코드  회계년도  ...      현금비율  ocf 대 유동부채    총자산회전율    총자산증가율\n",
              "1  13917  동화약품(주)     20  2007  ...  0.361903    0.889954  0.761634  0.027613\n",
              "2  13918  동화약품(주)     20  2008  ...  0.142082    0.718559  0.837150  0.113538\n",
              "3  13919  동화약품(주)     20  2009  ...  0.136364    0.387372  0.709190  0.413068\n",
              "4  13913  동화약품(주)     20  2010  ...  0.219472    0.224878  0.677531  0.040252\n",
              "5  13912  동화약품(주)     20  2011  ...  0.399890    0.526337  0.707107  0.047596\n",
              "\n",
              "[5 rows x 49 columns]"
            ]
          },
          "metadata": {},
          "execution_count": 5
        }
      ],
      "source": [
        "data = pd.read_csv(\"전처리완료3.csv\", index_col = 0)\n",
        "data.head(5)"
      ]
    },
    {
      "cell_type": "code",
      "source": [
        "data.drop(['index', '회사명','거래소코드', '회계년도'], axis = 1, inplace=True)\n",
        "data.shape"
      ],
      "metadata": {
        "colab": {
          "base_uri": "https://localhost:8080/"
        },
        "id": "c1Rr_X7hsY9c",
        "outputId": "ed5366cc-3f8d-4a20-b835-75bfc0abea0b"
      },
      "execution_count": null,
      "outputs": [
        {
          "output_type": "execute_result",
          "data": {
            "text/plain": [
              "(17591, 45)"
            ]
          },
          "metadata": {},
          "execution_count": 6
        }
      ]
    },
    {
      "cell_type": "code",
      "source": [
        "data.부도여부.value_counts()"
      ],
      "metadata": {
        "colab": {
          "base_uri": "https://localhost:8080/"
        },
        "id": "oMUq9qSw1op5",
        "outputId": "cf1ad509-c8c1-4181-ae7f-30de1e2018d4"
      },
      "execution_count": null,
      "outputs": [
        {
          "output_type": "execute_result",
          "data": {
            "text/plain": [
              "0.0    17401\n",
              "1.0      190\n",
              "Name: 부도여부, dtype: int64"
            ]
          },
          "metadata": {},
          "execution_count": 27
        }
      ]
    },
    {
      "cell_type": "markdown",
      "source": [
        "# 1. T-test"
      ],
      "metadata": {
        "id": "ckMEVdrdu5RO"
      }
    },
    {
      "cell_type": "code",
      "source": [
        "# 부도여부로 데이터 나누기\n",
        "from scipy import stats\n",
        "\n",
        "data1 = data[data['부도여부']==1]\n",
        "data2 = data[data['부도여부']==0]\n",
        "\n",
        "column_list = data.drop(['부도여부'],axis = 1).columns\n",
        "\n",
        "good_count = 0\n",
        "bad_count = 0\n",
        "good_column_list = []\n",
        "for i in column_list :\n",
        "    x = stats.levene(data1[i],data2[i])\n",
        "    if x[1]>0.05: #등분산의 경우\n",
        "        t, p = stats.ttest_ind(data1[i], data2[i])\n",
        "        print(\"Student's t-test Result\\n --------------------\")\n",
        "        if p > 0.05 :\n",
        "            print(f\"{i} 의 p-value =\", round(p, 5), \"통계적으로 유의미하지 않음\\n\")\n",
        "            bad_count += 1\n",
        "        else :\n",
        "            print(f\"{i} 의 p-value =\", round(p, 5), \"통계적으로 유의미\\n\")\n",
        "            good_count += 1\n",
        "            good_column_list.append(i)\n",
        "    else : #이분산의 경우\n",
        "        t, p = stats.ttest_ind(data1[i], data2[i], equal_var=False)\n",
        "        print(\"Welch's t-test Result\\n --------------------\")\n",
        "        if p > 0.05 :\n",
        "            print(f\"{i} 의 p-value =\", round(p, 5), \"통계적으로 유의미하지 않음\\n\")\n",
        "            bad_count += 1\n",
        "        else :\n",
        "            print(f\"{i} 의 p-value =\", round(p, 5), \"통계적으로 유의미\\n\")\n",
        "            good_count +=1\n",
        "            good_column_list.append(i)"
      ],
      "metadata": {
        "colab": {
          "base_uri": "https://localhost:8080/"
        },
        "id": "O1s1zyquwU03",
        "outputId": "64655185-5114-43bc-bf25-a99dde4d4605"
      },
      "execution_count": null,
      "outputs": [
        {
          "output_type": "stream",
          "name": "stdout",
          "text": [
            "Welch's t-test Result\n",
            " --------------------\n",
            "총자본순이익률 의 p-value = 0.0 통계적으로 유의미\n",
            "\n",
            "Welch's t-test Result\n",
            " --------------------\n",
            "총자본영업이익률 의 p-value = 0.0 통계적으로 유의미\n",
            "\n",
            "Welch's t-test Result\n",
            " --------------------\n",
            "자기자본순이익률 의 p-value = 0.0 통계적으로 유의미\n",
            "\n",
            "Welch's t-test Result\n",
            " --------------------\n",
            "매출액총이익률 의 p-value = 0.0 통계적으로 유의미\n",
            "\n",
            "Student's t-test Result\n",
            " --------------------\n",
            "매출액영업이익률 의 p-value = 0.4437 통계적으로 유의미하지 않음\n",
            "\n",
            "Student's t-test Result\n",
            " --------------------\n",
            "금융비용부담률 의 p-value = 0.0629 통계적으로 유의미하지 않음\n",
            "\n",
            "Student's t-test Result\n",
            " --------------------\n",
            "자기자본비율 의 p-value = 0.62654 통계적으로 유의미하지 않음\n",
            "\n",
            "Welch's t-test Result\n",
            " --------------------\n",
            "부채비율 의 p-value = 0.06799 통계적으로 유의미하지 않음\n",
            "\n",
            "Student's t-test Result\n",
            " --------------------\n",
            "유동비율 의 p-value = 0.06094 통계적으로 유의미하지 않음\n",
            "\n",
            "Student's t-test Result\n",
            " --------------------\n",
            "당좌비율 의 p-value = 0.11715 통계적으로 유의미하지 않음\n",
            "\n",
            "Welch's t-test Result\n",
            " --------------------\n",
            "차입금의존도 의 p-value = 0.0 통계적으로 유의미\n",
            "\n",
            "Welch's t-test Result\n",
            " --------------------\n",
            "비유동장기적합률 의 p-value = 0.00771 통계적으로 유의미\n",
            "\n",
            "Welch's t-test Result\n",
            " --------------------\n",
            "총자본회전률 의 p-value = 0.0 통계적으로 유의미\n",
            "\n",
            "Student's t-test Result\n",
            " --------------------\n",
            "자기자본회전률 의 p-value = 0.00147 통계적으로 유의미\n",
            "\n",
            "Welch's t-test Result\n",
            " --------------------\n",
            "운전자본회전률 의 p-value = 0.16497 통계적으로 유의미하지 않음\n",
            "\n",
            "Student's t-test Result\n",
            " --------------------\n",
            "매출채권회전률 의 p-value = 0.87573 통계적으로 유의미하지 않음\n",
            "\n",
            "Student's t-test Result\n",
            " --------------------\n",
            "재고자산회전률 의 p-value = 0.91053 통계적으로 유의미하지 않음\n",
            "\n",
            "Student's t-test Result\n",
            " --------------------\n",
            "매입채무회전률 의 p-value = 0.71053 통계적으로 유의미하지 않음\n",
            "\n",
            "Welch's t-test Result\n",
            " --------------------\n",
            "총자본증가율 의 p-value = 0.12702 통계적으로 유의미하지 않음\n",
            "\n",
            "Welch's t-test Result\n",
            " --------------------\n",
            "유동자산증가율 의 p-value = 0.7646 통계적으로 유의미하지 않음\n",
            "\n",
            "Student's t-test Result\n",
            " --------------------\n",
            "매출액증가율 의 p-value = 0.76261 통계적으로 유의미하지 않음\n",
            "\n",
            "Student's t-test Result\n",
            " --------------------\n",
            "순이익증가율 의 p-value = 0.34171 통계적으로 유의미하지 않음\n",
            "\n",
            "Welch's t-test Result\n",
            " --------------------\n",
            "자기자본증가율 의 p-value = 0.35432 통계적으로 유의미하지 않음\n",
            "\n",
            "Student's t-test Result\n",
            " --------------------\n",
            "CASH FLOW 대 부채비율 의 p-value = 0.0 통계적으로 유의미\n",
            "\n",
            "Welch's t-test Result\n",
            " --------------------\n",
            "CASH FLOW 대 매출액비율 의 p-value = 0.27642 통계적으로 유의미하지 않음\n",
            "\n",
            "Student's t-test Result\n",
            " --------------------\n",
            "유형자산증가율 의 p-value = 0.95046 통계적으로 유의미하지 않음\n",
            "\n",
            "Welch's t-test Result\n",
            " --------------------\n",
            "차입금비율 의 p-value = 0.0803 통계적으로 유의미하지 않음\n",
            "\n",
            "Student's t-test Result\n",
            " --------------------\n",
            "영업이익(손실)(천원) 의 p-value = 0.01766 통계적으로 유의미\n",
            "\n",
            "Student's t-test Result\n",
            " --------------------\n",
            "법인세비용차감전(계속사업)손익(천원) 의 p-value = 0.00179 통계적으로 유의미\n",
            "\n",
            "Student's t-test Result\n",
            " --------------------\n",
            "자산(*)(천원) 의 p-value = 0.04665 통계적으로 유의미\n",
            "\n",
            "Student's t-test Result\n",
            " --------------------\n",
            "자본(*)(천원) 의 p-value = 0.05252 통계적으로 유의미하지 않음\n",
            "\n",
            "Student's t-test Result\n",
            " --------------------\n",
            "비유동자산(*)(천원) 의 p-value = 0.0573 통계적으로 유의미하지 않음\n",
            "\n",
            "Welch's t-test Result\n",
            " --------------------\n",
            "현금 및 현금성자산(*)(천원) 의 p-value = 0.0 통계적으로 유의미\n",
            "\n",
            "Student's t-test Result\n",
            " --------------------\n",
            "유동부채(*)(천원) 의 p-value = 0.07895 통계적으로 유의미하지 않음\n",
            "\n",
            "Student's t-test Result\n",
            " --------------------\n",
            "영업활동으로 인한 현금흐름(*)(천원) 의 p-value = 0.10476 통계적으로 유의미하지 않음\n",
            "\n",
            "Student's t-test Result\n",
            " --------------------\n",
            "매출액(영업수익)(*)(천원) 의 p-value = 0.04329 통계적으로 유의미\n",
            "\n",
            "Student's t-test Result\n",
            " --------------------\n",
            "당기순이익(손실)(천원) 의 p-value = 0.00048 통계적으로 유의미\n",
            "\n",
            "Welch's t-test Result\n",
            " --------------------\n",
            "총자산순이익률 의 p-value = 0.0 통계적으로 유의미\n",
            "\n",
            "Welch's t-test Result\n",
            " --------------------\n",
            "총자산영업이익률 의 p-value = 0.00139 통계적으로 유의미\n",
            "\n",
            "Welch's t-test Result\n",
            " --------------------\n",
            "고정비율 의 p-value = 0.22727 통계적으로 유의미하지 않음\n",
            "\n",
            "Student's t-test Result\n",
            " --------------------\n",
            "현금비율 의 p-value = 0.1594 통계적으로 유의미하지 않음\n",
            "\n",
            "Student's t-test Result\n",
            " --------------------\n",
            "ocf 대 유동부채 의 p-value = 8e-05 통계적으로 유의미\n",
            "\n",
            "Welch's t-test Result\n",
            " --------------------\n",
            "총자산회전율 의 p-value = 0.0 통계적으로 유의미\n",
            "\n",
            "Welch's t-test Result\n",
            " --------------------\n",
            "총자산증가율 의 p-value = 0.10533 통계적으로 유의미하지 않음\n",
            "\n"
          ]
        }
      ]
    },
    {
      "cell_type": "code",
      "source": [
        "print(good_count, bad_count)\n",
        "print(good_column_list)"
      ],
      "metadata": {
        "colab": {
          "base_uri": "https://localhost:8080/"
        },
        "id": "XJVy0TE1weAY",
        "outputId": "0e9c6e8b-f079-4d86-a51f-9f7fb279e480"
      },
      "execution_count": null,
      "outputs": [
        {
          "output_type": "stream",
          "name": "stdout",
          "text": [
            "19 25\n",
            "['총자본순이익률', '총자본영업이익률', '자기자본순이익률', '매출액총이익률', '차입금의존도', '비유동장기적합률', '총자본회전률', '자기자본회전률', 'CASH FLOW 대 부채비율', '영업이익(손실)(천원)', '법인세비용차감전(계속사업)손익(천원)', '자산(*)(천원)', '현금 및 현금성자산(*)(천원)', '매출액(영업수익)(*)(천원)', '당기순이익(손실)(천원)', '총자산순이익률', '총자산영업이익률', 'ocf 대 유동부채', '총자산회전율']\n"
          ]
        }
      ]
    },
    {
      "cell_type": "code",
      "source": [
        "# 유의미한 변수만 추린 데이터\n",
        "data_1 = data.loc[:, good_column_list]\n",
        "data_1 = pd.concat([data_1, data['부도여부']], axis=1)\n",
        "data_1.shape"
      ],
      "metadata": {
        "colab": {
          "base_uri": "https://localhost:8080/"
        },
        "id": "8mGLWp6cwoZI",
        "outputId": "e4f5ab75-b8ba-4c4a-fbc9-8efc9433ebf7"
      },
      "execution_count": null,
      "outputs": [
        {
          "output_type": "execute_result",
          "data": {
            "text/plain": [
              "(17591, 20)"
            ]
          },
          "metadata": {},
          "execution_count": 9
        }
      ]
    },
    {
      "cell_type": "markdown",
      "source": [
        "# 2. 래퍼 방식"
      ],
      "metadata": {
        "id": "-ErVFhdtu8yL"
      }
    },
    {
      "cell_type": "markdown",
      "source": [
        "## 1) 전진선택법"
      ],
      "metadata": {
        "id": "5Y-kmIYQf5n9"
      }
    },
    {
      "cell_type": "code",
      "source": [
        "X = data_1.drop(['부도여부'], axis=1)\n",
        "y = data_1['부도여부']"
      ],
      "metadata": {
        "id": "zK6rzVBc-zV7"
      },
      "execution_count": null,
      "outputs": []
    },
    {
      "cell_type": "code",
      "source": [
        "# 변수 선택법\n",
        "\n",
        "def processSubset(X,y, feature_set):\n",
        "  X = add_constant(X)\n",
        "  model = sm.OLS(y,X[list(feature_set)])  # modeling\n",
        "  regr = model.fit()  # 모델학습\n",
        "  AIC = regr.aic    # 모델의 AIC\n",
        "  return {\"model\" : regr , \"AIC\" : AIC}\n",
        "\n",
        "# 전체 변수의 AIC test\n",
        "print(processSubset(X=X, y=y, feature_set=X.columns))"
      ],
      "metadata": {
        "colab": {
          "base_uri": "https://localhost:8080/"
        },
        "id": "YvU6yG73ypAR",
        "outputId": "a9b0e0a2-1859-4049-8126-ae62cacc3790"
      },
      "execution_count": null,
      "outputs": [
        {
          "output_type": "stream",
          "name": "stdout",
          "text": [
            "{'model': <statsmodels.regression.linear_model.RegressionResultsWrapper object at 0x7f4321210890>, 'AIC': -31627.519731823326}\n"
          ]
        }
      ]
    },
    {
      "cell_type": "code",
      "source": [
        "# 전진선택법(step=1)\n",
        "import time\n",
        "def forward(X,y,predictors):\n",
        "\t\n",
        "  # predictor - 현재 선택되어있는 변수\n",
        "  # 데이터 변수들이 미리 정의된 predictors에 있는지 없는지 확인 및 분류\n",
        "\n",
        "  remaining_predictors = [p for p in X.columns.difference(['const']) if p not in predictors]\n",
        "  tic = time.time()\n",
        "  results = []\n",
        "  for p in remaining_predictors :\n",
        "    results.append(processSubset(X=X,y=y,feature_set=predictors+[p]+['const']))\n",
        "\n",
        "  # 데이터프레임으로 변환\n",
        "  models = pd.DataFrame(results)\n",
        "\n",
        "  # AIC가 가장 낮은 것을 선택\n",
        "  best_model = models.loc[models['AIC'].argmin()] # index\n",
        "  toc = time.time()\n",
        "  print(\"Processed \",models.shape[0], \"models on\", len(predictors)+1, \"predictors in\", (toc-tic))\n",
        "  print(\"Selected predictors:\",best_model[\"model\"].model.exog_names,\"AIC: \",best_model[0])\n",
        "  return best_model\n",
        "    \n",
        "### 전진선택법 모델\n",
        "\n",
        "def forward_model(X,y):\n",
        "\n",
        "  Fmodels = pd.DataFrame(columns=[\"AIC\",\"model\"])\n",
        "  tic  = time.time()\n",
        "\n",
        "  # 미리 정의된 데이터 변수\n",
        "  predictors = []\n",
        "\n",
        "  # 변수 1~10개 : 0-9 -> 1-10\n",
        "  for i in range(1,len(X.columns.difference(['const']))+1):\n",
        "    Forward_result = forward(X=X,y=y,predictors=predictors)\n",
        "    if i > 1:\n",
        "      if Forward_result[\"AIC\"] > Fmodel_before:\n",
        "        break\n",
        "    Fmodels.loc[i] = Forward_result\n",
        "    predictors = Fmodels.loc[i][\"model\"].model.exog_names\n",
        "    Fmodel_before = Fmodels.loc[i][\"AIC\"]\n",
        "    predictors = [k for k in predictors if k != 'const']\n",
        "  toc = time.time()\n",
        "  print(\"Total elapsed time:\",(toc-tic), \"seconds.\")\n",
        "\n",
        "  return (Fmodels['model'][len(Fmodels['model'])])"
      ],
      "metadata": {
        "id": "yI21E7pkTnPb"
      },
      "execution_count": null,
      "outputs": []
    },
    {
      "cell_type": "code",
      "source": [
        "forwardBestModel = forward_model(X, y)"
      ],
      "metadata": {
        "colab": {
          "base_uri": "https://localhost:8080/"
        },
        "id": "nj2VL0nHbmw6",
        "outputId": "4ae17b38-9415-4b32-fa6d-c5689d963495"
      },
      "execution_count": null,
      "outputs": [
        {
          "output_type": "stream",
          "name": "stdout",
          "text": [
            "Processed  19 models on 1 predictors in 0.274111270904541\n",
            "Selected predictors: ['총자산순이익률', 'const'] AIC:  <statsmodels.regression.linear_model.RegressionResultsWrapper object at 0x7f4317960d10>\n",
            "Processed  18 models on 2 predictors in 0.28754138946533203\n",
            "Selected predictors: ['총자산순이익률', '차입금의존도', 'const'] AIC:  <statsmodels.regression.linear_model.RegressionResultsWrapper object at 0x7f431798c310>\n",
            "Processed  17 models on 3 predictors in 0.26456665992736816\n",
            "Selected predictors: ['총자산순이익률', '차입금의존도', '총자본영업이익률', 'const'] AIC:  <statsmodels.regression.linear_model.RegressionResultsWrapper object at 0x7f431798cf50>\n",
            "Processed  16 models on 4 predictors in 0.27294206619262695\n",
            "Selected predictors: ['총자산순이익률', '차입금의존도', '총자본영업이익률', '총자산영업이익률', 'const'] AIC:  <statsmodels.regression.linear_model.RegressionResultsWrapper object at 0x7f431798c110>\n",
            "Processed  15 models on 5 predictors in 0.2632603645324707\n",
            "Selected predictors: ['총자산순이익률', '차입금의존도', '총자본영업이익률', '총자산영업이익률', '비유동장기적합률', 'const'] AIC:  <statsmodels.regression.linear_model.RegressionResultsWrapper object at 0x7f4317984e50>\n",
            "Processed  14 models on 6 predictors in 0.2905464172363281\n",
            "Selected predictors: ['총자산순이익률', '차입금의존도', '총자본영업이익률', '총자산영업이익률', '비유동장기적합률', '자기자본회전률', 'const'] AIC:  <statsmodels.regression.linear_model.RegressionResultsWrapper object at 0x7f431798c550>\n",
            "Processed  13 models on 7 predictors in 0.25783824920654297\n",
            "Selected predictors: ['총자산순이익률', '차입금의존도', '총자본영업이익률', '총자산영업이익률', '비유동장기적합률', '자기자본회전률', '자기자본순이익률', 'const'] AIC:  <statsmodels.regression.linear_model.RegressionResultsWrapper object at 0x7f4317991750>\n",
            "Processed  12 models on 8 predictors in 0.24915575981140137\n",
            "Selected predictors: ['총자산순이익률', '차입금의존도', '총자본영업이익률', '총자산영업이익률', '비유동장기적합률', '자기자본회전률', '자기자본순이익률', 'ocf 대 유동부채', 'const'] AIC:  <statsmodels.regression.linear_model.RegressionResultsWrapper object at 0x7f4317987490>\n",
            "Processed  11 models on 9 predictors in 0.24522018432617188\n",
            "Selected predictors: ['총자산순이익률', '차입금의존도', '총자본영업이익률', '총자산영업이익률', '비유동장기적합률', '자기자본회전률', '자기자본순이익률', 'ocf 대 유동부채', '총자산회전율', 'const'] AIC:  <statsmodels.regression.linear_model.RegressionResultsWrapper object at 0x7f431798c4d0>\n",
            "Processed  10 models on 10 predictors in 0.2348642349243164\n",
            "Selected predictors: ['총자산순이익률', '차입금의존도', '총자본영업이익률', '총자산영업이익률', '비유동장기적합률', '자기자본회전률', '자기자본순이익률', 'ocf 대 유동부채', '총자산회전율', '자산(*)(천원)', 'const'] AIC:  <statsmodels.regression.linear_model.RegressionResultsWrapper object at 0x7f431798ba90>\n",
            "Total elapsed time: 2.7389330863952637 seconds.\n"
          ]
        }
      ]
    },
    {
      "cell_type": "code",
      "source": [
        "# 전진선택법 AIC\n",
        "forwardBestModel.aic"
      ],
      "metadata": {
        "colab": {
          "base_uri": "https://localhost:8080/"
        },
        "id": "HcMCGzTtd2Dt",
        "outputId": "ae04c2f3-dc87-46fb-ae47-ee6085ce19bf"
      },
      "execution_count": null,
      "outputs": [
        {
          "output_type": "execute_result",
          "data": {
            "text/plain": [
              "-31640.66152513023"
            ]
          },
          "metadata": {},
          "execution_count": 14
        }
      ]
    },
    {
      "cell_type": "code",
      "source": [
        "print(forwardBestModel.summary())"
      ],
      "metadata": {
        "colab": {
          "base_uri": "https://localhost:8080/"
        },
        "id": "wVV1Xe4b3Hfr",
        "outputId": "66c97673-b80e-4938-e36b-2588f1f8a749"
      },
      "execution_count": null,
      "outputs": [
        {
          "output_type": "stream",
          "name": "stdout",
          "text": [
            "                            OLS Regression Results                            \n",
            "==============================================================================\n",
            "Dep. Variable:                   부도여부   R-squared:                       0.094\n",
            "Model:                            OLS   Adj. R-squared:                  0.094\n",
            "Method:                 Least Squares   F-statistic:                     202.7\n",
            "Date:                Tue, 21 Dec 2021   Prob (F-statistic):               0.00\n",
            "Time:                        12:18:54   Log-Likelihood:                 15830.\n",
            "No. Observations:               17591   AIC:                        -3.164e+04\n",
            "Df Residuals:                   17581   BIC:                        -3.156e+04\n",
            "Df Model:                           9                                         \n",
            "Covariance Type:            nonrobust                                         \n",
            "==============================================================================\n",
            "                 coef    std err          t      P>|t|      [0.025      0.975]\n",
            "------------------------------------------------------------------------------\n",
            "총자산순이익률       -0.0568      0.003    -20.496      0.000      -0.062      -0.051\n",
            "차입금의존도         0.0004   4.29e-05      9.522      0.000       0.000       0.000\n",
            "총자본영업이익률      -0.0008   9.07e-05     -9.010      0.000      -0.001      -0.001\n",
            "총자산영업이익률       0.0214      0.005      4.406      0.000       0.012       0.031\n",
            "비유동장기적합률      4.2e-05   1.13e-05      3.727      0.000    1.99e-05    6.41e-05\n",
            "자기자본회전률       -0.0013      0.000     -3.939      0.000      -0.002      -0.001\n",
            "자기자본순이익률   -2.753e-05   9.08e-06     -3.033      0.002   -4.53e-05   -9.74e-06\n",
            "ocf 대 유동부채     0.0006      0.000      2.139      0.032    4.72e-05       0.001\n",
            "총자산회전율         0.0030      0.001      2.078      0.038       0.000       0.006\n",
            "const         -0.0011      0.002     -0.590      0.555      -0.005       0.002\n",
            "==============================================================================\n",
            "Omnibus:                    24520.469   Durbin-Watson:                   2.012\n",
            "Prob(Omnibus):                  0.000   Jarque-Bera (JB):          4823552.331\n",
            "Skew:                           8.432   Prob(JB):                         0.00\n",
            "Kurtosis:                      82.351   Cond. No.                         803.\n",
            "==============================================================================\n",
            "\n",
            "Warnings:\n",
            "[1] Standard Errors assume that the covariance matrix of the errors is correctly specified.\n"
          ]
        }
      ]
    },
    {
      "cell_type": "code",
      "source": [
        "# 9개\n",
        "print(\"전진선택법 결과: \\n\")\n",
        "forwardBestModel.params"
      ],
      "metadata": {
        "colab": {
          "base_uri": "https://localhost:8080/"
        },
        "id": "kcXQDdje_W-9",
        "outputId": "f4f0e6ae-57c3-42fc-b59c-b75b51e6a981"
      },
      "execution_count": null,
      "outputs": [
        {
          "output_type": "stream",
          "name": "stdout",
          "text": [
            "전진선택법 결과: \n",
            "\n"
          ]
        },
        {
          "output_type": "execute_result",
          "data": {
            "text/plain": [
              "총자산순이익률      -0.056849\n",
              "차입금의존도        0.000409\n",
              "총자본영업이익률     -0.000817\n",
              "총자산영업이익률      0.021444\n",
              "비유동장기적합률      0.000042\n",
              "자기자본회전률      -0.001305\n",
              "자기자본순이익률     -0.000028\n",
              "ocf 대 유동부채    0.000565\n",
              "총자산회전율        0.003044\n",
              "const        -0.001055\n",
              "dtype: float64"
            ]
          },
          "metadata": {},
          "execution_count": 16
        }
      ]
    },
    {
      "cell_type": "markdown",
      "source": [
        "## 2) 후진소거법"
      ],
      "metadata": {
        "id": "69guHdisxIXQ"
      }
    },
    {
      "cell_type": "code",
      "source": [
        "# 후진소거법(step=1)\n",
        "import time\n",
        "import itertools\n",
        "\n",
        "def backward(X,y,predictors):\n",
        "  tic = time.time()\n",
        "  results = []\n",
        "\n",
        "  # 데이터 변수들이 미리 정의된 predictors 조합 확인\n",
        "\n",
        "  for combo in itertools.combinations(predictors, len(predictors) - 1):\n",
        "    results.append(processSubset(X=X,y=y,feature_set=list(combo)+['const']))\n",
        "  models = pd.DataFrame(results)\n",
        "\n",
        "  # 가장 낮은 AIC를 가진 모델을 선택\n",
        "  best_model = models.loc[models['AIC'].argmin()]\n",
        "  toc = time.time()\n",
        "\n",
        "  print(\"Processed \",models.shape[0], \"models on\", len(predictors) - 1, \"predictors in\",(toc-tic))\n",
        "  print(\"Selected predictors:\",best_model['model'].model.exog_names,' AIC:',best_model[0])\n",
        "  return best_model\n",
        "    \n",
        "def backward_model(X,y) :\n",
        "  Bmodels = pd.DataFrame(columns=[\"AIC\",\"model\"], index=range(1, len(X.columns)))\n",
        "  tic = time.time()\n",
        "  predictors = X.columns.difference(['const'])\n",
        "  Bmodel_before = processSubset(X,y,predictors)['AIC']\n",
        "  while (len(predictors) > 1):\n",
        "    Backward_result = backward(X=X, y= y, predictors=predictors)\n",
        "    if Backward_result['AIC'] > Bmodel_before :\n",
        "      break\n",
        "    Bmodels.loc[len(predictors) -1] = Backward_result\n",
        "    predictors = Bmodels.loc[len(predictors) - 1]['model'].model.exog_names\n",
        "    Bmodel_before = Backward_result[\"AIC\"]\n",
        "    predictors = [k for k in predictors if k != 'const']\n",
        "\n",
        "  toc = time.time()\n",
        "  print(\"Total elapsed time:\",(toc-tic),\"seconds.\")\n",
        "  return (Bmodels[\"model\"].dropna().iloc[0])"
      ],
      "metadata": {
        "id": "H0RlSDKYzHs7"
      },
      "execution_count": null,
      "outputs": []
    },
    {
      "cell_type": "code",
      "source": [
        "Backward_best_model = backward_model(X, y)"
      ],
      "metadata": {
        "colab": {
          "base_uri": "https://localhost:8080/"
        },
        "id": "Jri68Ft9zNHQ",
        "outputId": "3a86a8a3-ffba-4fe9-db20-747781a74993"
      },
      "execution_count": null,
      "outputs": [
        {
          "output_type": "stream",
          "name": "stdout",
          "text": [
            "Processed  19 models on 18 predictors in 0.6668553352355957\n",
            "Selected predictors: ['ocf 대 유동부채', '당기순이익(손실)(천원)', '매출액(영업수익)(*)(천원)', '매출액총이익률', '법인세비용차감전(계속사업)손익(천원)', '비유동장기적합률', '영업이익(손실)(천원)', '자기자본순이익률', '자기자본회전률', '자산(*)(천원)', '차입금의존도', '총자본순이익률', '총자본영업이익률', '총자본회전률', '총자산순이익률', '총자산영업이익률', '총자산회전율', '현금 및 현금성자산(*)(천원)', 'const']  AIC: <statsmodels.regression.linear_model.RegressionResultsWrapper object at 0x7f4317960d50>\n",
            "Processed  18 models on 17 predictors in 0.5544707775115967\n",
            "Selected predictors: ['ocf 대 유동부채', '당기순이익(손실)(천원)', '매출액(영업수익)(*)(천원)', '매출액총이익률', '법인세비용차감전(계속사업)손익(천원)', '비유동장기적합률', '영업이익(손실)(천원)', '자기자본순이익률', '자기자본회전률', '자산(*)(천원)', '차입금의존도', '총자본순이익률', '총자본영업이익률', '총자본회전률', '총자산순이익률', '총자산영업이익률', '총자산회전율', 'const']  AIC: <statsmodels.regression.linear_model.RegressionResultsWrapper object at 0x7f432154b810>\n",
            "Processed  17 models on 16 predictors in 0.49607110023498535\n",
            "Selected predictors: ['ocf 대 유동부채', '당기순이익(손실)(천원)', '매출액총이익률', '법인세비용차감전(계속사업)손익(천원)', '비유동장기적합률', '영업이익(손실)(천원)', '자기자본순이익률', '자기자본회전률', '자산(*)(천원)', '차입금의존도', '총자본순이익률', '총자본영업이익률', '총자본회전률', '총자산순이익률', '총자산영업이익률', '총자산회전율', 'const']  AIC: <statsmodels.regression.linear_model.RegressionResultsWrapper object at 0x7f431798b850>\n",
            "Processed  16 models on 15 predictors in 0.45317649841308594\n",
            "Selected predictors: ['ocf 대 유동부채', '당기순이익(손실)(천원)', '매출액총이익률', '법인세비용차감전(계속사업)손익(천원)', '비유동장기적합률', '영업이익(손실)(천원)', '자기자본순이익률', '자기자본회전률', '자산(*)(천원)', '차입금의존도', '총자본영업이익률', '총자본회전률', '총자산순이익률', '총자산영업이익률', '총자산회전율', 'const']  AIC: <statsmodels.regression.linear_model.RegressionResultsWrapper object at 0x7f431798c410>\n",
            "Processed  15 models on 14 predictors in 0.4110252857208252\n",
            "Selected predictors: ['ocf 대 유동부채', '당기순이익(손실)(천원)', '매출액총이익률', '법인세비용차감전(계속사업)손익(천원)', '비유동장기적합률', '영업이익(손실)(천원)', '자기자본순이익률', '자기자본회전률', '자산(*)(천원)', '차입금의존도', '총자본영업이익률', '총자산순이익률', '총자산영업이익률', '총자산회전율', 'const']  AIC: <statsmodels.regression.linear_model.RegressionResultsWrapper object at 0x7f431794e610>\n",
            "Processed  14 models on 13 predictors in 0.3990471363067627\n",
            "Selected predictors: ['ocf 대 유동부채', '당기순이익(손실)(천원)', '매출액총이익률', '법인세비용차감전(계속사업)손익(천원)', '비유동장기적합률', '자기자본순이익률', '자기자본회전률', '자산(*)(천원)', '차입금의존도', '총자본영업이익률', '총자산순이익률', '총자산영업이익률', '총자산회전율', 'const']  AIC: <statsmodels.regression.linear_model.RegressionResultsWrapper object at 0x7f431796b090>\n",
            "Processed  13 models on 12 predictors in 0.3268284797668457\n",
            "Selected predictors: ['ocf 대 유동부채', '당기순이익(손실)(천원)', '매출액총이익률', '비유동장기적합률', '자기자본순이익률', '자기자본회전률', '자산(*)(천원)', '차입금의존도', '총자본영업이익률', '총자산순이익률', '총자산영업이익률', '총자산회전율', 'const']  AIC: <statsmodels.regression.linear_model.RegressionResultsWrapper object at 0x7f431794e250>\n",
            "Processed  12 models on 11 predictors in 0.2762620449066162\n",
            "Selected predictors: ['ocf 대 유동부채', '당기순이익(손실)(천원)', '비유동장기적합률', '자기자본순이익률', '자기자본회전률', '자산(*)(천원)', '차입금의존도', '총자본영업이익률', '총자산순이익률', '총자산영업이익률', '총자산회전율', 'const']  AIC: <statsmodels.regression.linear_model.RegressionResultsWrapper object at 0x7f431794e6d0>\n",
            "Processed  11 models on 10 predictors in 0.24556279182434082\n",
            "Selected predictors: ['ocf 대 유동부채', '비유동장기적합률', '자기자본순이익률', '자기자본회전률', '자산(*)(천원)', '차입금의존도', '총자본영업이익률', '총자산순이익률', '총자산영업이익률', '총자산회전율', 'const']  AIC: <statsmodels.regression.linear_model.RegressionResultsWrapper object at 0x7f431794e590>\n",
            "Processed  10 models on 9 predictors in 0.21842646598815918\n",
            "Selected predictors: ['ocf 대 유동부채', '비유동장기적합률', '자기자본순이익률', '자기자본회전률', '차입금의존도', '총자본영업이익률', '총자산순이익률', '총자산영업이익률', '총자산회전율', 'const']  AIC: <statsmodels.regression.linear_model.RegressionResultsWrapper object at 0x7f431794e050>\n",
            "Processed  9 models on 8 predictors in 0.18195509910583496\n",
            "Selected predictors: ['ocf 대 유동부채', '비유동장기적합률', '자기자본순이익률', '자기자본회전률', '차입금의존도', '총자본영업이익률', '총자산순이익률', '총자산영업이익률', 'const']  AIC: <statsmodels.regression.linear_model.RegressionResultsWrapper object at 0x7f431795e850>\n",
            "Total elapsed time: 4.373412847518921 seconds.\n"
          ]
        }
      ]
    },
    {
      "cell_type": "code",
      "source": [
        "# 9개\n",
        "Backward_best_model.aic"
      ],
      "metadata": {
        "colab": {
          "base_uri": "https://localhost:8080/"
        },
        "id": "vrASnHTQ0oPO",
        "outputId": "8c6f1d2c-6c18-453c-c860-6a5b08e4777a"
      },
      "execution_count": null,
      "outputs": [
        {
          "output_type": "execute_result",
          "data": {
            "text/plain": [
              "-31640.66152513023"
            ]
          },
          "metadata": {},
          "execution_count": 19
        }
      ]
    },
    {
      "cell_type": "code",
      "source": [
        "print(Backward_best_model.summary())"
      ],
      "metadata": {
        "colab": {
          "base_uri": "https://localhost:8080/"
        },
        "id": "bxBVUz4I2pgn",
        "outputId": "0bca85d0-1ca8-42c6-d2fc-1688063650b4"
      },
      "execution_count": null,
      "outputs": [
        {
          "output_type": "stream",
          "name": "stdout",
          "text": [
            "                            OLS Regression Results                            \n",
            "==============================================================================\n",
            "Dep. Variable:                   부도여부   R-squared:                       0.094\n",
            "Model:                            OLS   Adj. R-squared:                  0.094\n",
            "Method:                 Least Squares   F-statistic:                     202.7\n",
            "Date:                Tue, 21 Dec 2021   Prob (F-statistic):               0.00\n",
            "Time:                        12:18:59   Log-Likelihood:                 15830.\n",
            "No. Observations:               17591   AIC:                        -3.164e+04\n",
            "Df Residuals:                   17581   BIC:                        -3.156e+04\n",
            "Df Model:                           9                                         \n",
            "Covariance Type:            nonrobust                                         \n",
            "==============================================================================\n",
            "                 coef    std err          t      P>|t|      [0.025      0.975]\n",
            "------------------------------------------------------------------------------\n",
            "ocf 대 유동부채     0.0006      0.000      2.139      0.032    4.72e-05       0.001\n",
            "비유동장기적합률      4.2e-05   1.13e-05      3.727      0.000    1.99e-05    6.41e-05\n",
            "자기자본순이익률   -2.753e-05   9.08e-06     -3.033      0.002   -4.53e-05   -9.74e-06\n",
            "자기자본회전률       -0.0013      0.000     -3.939      0.000      -0.002      -0.001\n",
            "차입금의존도         0.0004   4.29e-05      9.522      0.000       0.000       0.000\n",
            "총자본영업이익률      -0.0008   9.07e-05     -9.010      0.000      -0.001      -0.001\n",
            "총자산순이익률       -0.0568      0.003    -20.496      0.000      -0.062      -0.051\n",
            "총자산영업이익률       0.0214      0.005      4.406      0.000       0.012       0.031\n",
            "총자산회전율         0.0030      0.001      2.078      0.038       0.000       0.006\n",
            "const         -0.0011      0.002     -0.590      0.555      -0.005       0.002\n",
            "==============================================================================\n",
            "Omnibus:                    24520.469   Durbin-Watson:                   2.012\n",
            "Prob(Omnibus):                  0.000   Jarque-Bera (JB):          4823552.331\n",
            "Skew:                           8.432   Prob(JB):                         0.00\n",
            "Kurtosis:                      82.351   Cond. No.                         803.\n",
            "==============================================================================\n",
            "\n",
            "Warnings:\n",
            "[1] Standard Errors assume that the covariance matrix of the errors is correctly specified.\n"
          ]
        }
      ]
    },
    {
      "cell_type": "code",
      "source": [
        "# 9개\n",
        "print(\"후진소거법 결과: \\n\")\n",
        "Backward_best_model.params"
      ],
      "metadata": {
        "colab": {
          "base_uri": "https://localhost:8080/"
        },
        "id": "skNvhvcd_rYY",
        "outputId": "edcb6a8c-eba5-4d6b-f9fa-d1ea4b298847"
      },
      "execution_count": null,
      "outputs": [
        {
          "output_type": "stream",
          "name": "stdout",
          "text": [
            "후진소거법 결과: \n",
            "\n"
          ]
        },
        {
          "output_type": "execute_result",
          "data": {
            "text/plain": [
              "ocf 대 유동부채    0.000565\n",
              "비유동장기적합률      0.000042\n",
              "자기자본순이익률     -0.000028\n",
              "자기자본회전률      -0.001305\n",
              "차입금의존도        0.000409\n",
              "총자본영업이익률     -0.000817\n",
              "총자산순이익률      -0.056849\n",
              "총자산영업이익률      0.021444\n",
              "총자산회전율        0.003044\n",
              "const        -0.001055\n",
              "dtype: float64"
            ]
          },
          "metadata": {},
          "execution_count": 21
        }
      ]
    },
    {
      "cell_type": "markdown",
      "source": [
        "## 3) 단계적 선택법"
      ],
      "metadata": {
        "id": "UP82SeYIgELi"
      }
    },
    {
      "cell_type": "code",
      "source": [
        "def Stepwise_model(X,y):\n",
        "    Stepmodels = pd.DataFrame(columns = [\"AIC\",\"model\"])\n",
        "    tic = time.time()\n",
        "    predictors = []\n",
        "    Smodel_before = processSubset(X,y,predictors + ['const'])['AIC']\n",
        "    \n",
        "    # 변수 1~10개 0-9 -> 1-10\n",
        "    for i in range(1,len(X.columns.difference(['const']))+1) :\n",
        "        Forward_result = forward(X=X,y=y,predictors = predictors) # constant added\n",
        "        print('forward')\n",
        "        Stepmodels.loc[i] = Forward_result\n",
        "        predictors = Stepmodels.loc[i]['model'].model.exog_names\n",
        "        predictors = [k for k in predictors if k != 'const']\n",
        "        Backward_result = backward(X=X,y=y,predictors = predictors)\n",
        "        if Backward_result[\"AIC\"] < Forward_result[\"AIC\"]:\n",
        "            Stepmodels.loc[i] = Backward_result\n",
        "            predictors = Stepmodels.loc[i][\"model\"].model.exog_names\n",
        "            Smodel_before = Stepmodels.loc[i][\"AIC\"]\n",
        "            predictors = [k for k in predictors if k != \"const\"]\n",
        "            print('backward')\n",
        "        if Stepmodels.loc[i][\"AIC\"] > Smodel_before:\n",
        "            break\n",
        "        else :\n",
        "            Smodel_before = Stepmodels.loc[i][\"AIC\"]\n",
        "    toc = time.time()\n",
        "    print(\"Total elapsed time:\",(toc-tic),\"seconds.\")\n",
        "    return (Stepmodels[\"model\"][len(Stepmodels[\"model\"])])"
      ],
      "metadata": {
        "id": "gFmqEjxWgFiz"
      },
      "execution_count": null,
      "outputs": []
    },
    {
      "cell_type": "code",
      "source": [
        "Stepwise_best_model = Stepwise_model(X=X, y= y)"
      ],
      "metadata": {
        "colab": {
          "base_uri": "https://localhost:8080/"
        },
        "id": "NSYkyP0wgKdZ",
        "outputId": "d9af0b13-c40a-4b84-b66d-d348596b75aa"
      },
      "execution_count": null,
      "outputs": [
        {
          "output_type": "stream",
          "name": "stdout",
          "text": [
            "Processed  19 models on 1 predictors in 0.2659766674041748\n",
            "Selected predictors: ['총자산순이익률', 'const'] AIC:  <statsmodels.regression.linear_model.RegressionResultsWrapper object at 0x7f43178e1f50>\n",
            "forward\n",
            "Processed  1 models on 0 predictors in 0.01307058334350586\n",
            "Selected predictors: ['const']  AIC: <statsmodels.regression.linear_model.RegressionResultsWrapper object at 0x7f4317987550>\n",
            "Processed  18 models on 2 predictors in 0.2615833282470703\n",
            "Selected predictors: ['총자산순이익률', '차입금의존도', 'const'] AIC:  <statsmodels.regression.linear_model.RegressionResultsWrapper object at 0x7f431794e210>\n",
            "forward\n",
            "Processed  2 models on 1 predictors in 0.03696107864379883\n",
            "Selected predictors: ['총자산순이익률', 'const']  AIC: <statsmodels.regression.linear_model.RegressionResultsWrapper object at 0x7f431794e190>\n",
            "Processed  17 models on 3 predictors in 0.26003241539001465\n",
            "Selected predictors: ['총자산순이익률', '차입금의존도', '총자본영업이익률', 'const'] AIC:  <statsmodels.regression.linear_model.RegressionResultsWrapper object at 0x7f4317956bd0>\n",
            "forward\n",
            "Processed  3 models on 2 predictors in 0.04293322563171387\n",
            "Selected predictors: ['총자산순이익률', '차입금의존도', 'const']  AIC: <statsmodels.regression.linear_model.RegressionResultsWrapper object at 0x7f43201d8dd0>\n",
            "Processed  16 models on 4 predictors in 0.27703189849853516\n",
            "Selected predictors: ['총자산순이익률', '차입금의존도', '총자본영업이익률', '총자산영업이익률', 'const'] AIC:  <statsmodels.regression.linear_model.RegressionResultsWrapper object at 0x7f4317904450>\n",
            "forward\n",
            "Processed  4 models on 3 predictors in 0.060903310775756836\n",
            "Selected predictors: ['총자산순이익률', '차입금의존도', '총자본영업이익률', 'const']  AIC: <statsmodels.regression.linear_model.RegressionResultsWrapper object at 0x7f4317904810>\n",
            "Processed  15 models on 5 predictors in 0.25386619567871094\n",
            "Selected predictors: ['총자산순이익률', '차입금의존도', '총자본영업이익률', '총자산영업이익률', '비유동장기적합률', 'const'] AIC:  <statsmodels.regression.linear_model.RegressionResultsWrapper object at 0x7f43178e12d0>\n",
            "forward\n",
            "Processed  5 models on 4 predictors in 0.07808899879455566\n",
            "Selected predictors: ['총자산순이익률', '차입금의존도', '총자본영업이익률', '총자산영업이익률', 'const']  AIC: <statsmodels.regression.linear_model.RegressionResultsWrapper object at 0x7f4317960cd0>\n",
            "Processed  14 models on 6 predictors in 0.26746129989624023\n",
            "Selected predictors: ['총자산순이익률', '차입금의존도', '총자본영업이익률', '총자산영업이익률', '비유동장기적합률', '자기자본회전률', 'const'] AIC:  <statsmodels.regression.linear_model.RegressionResultsWrapper object at 0x7f4317904110>\n",
            "forward\n",
            "Processed  6 models on 5 predictors in 0.10334134101867676\n",
            "Selected predictors: ['총자산순이익률', '차입금의존도', '총자본영업이익률', '총자산영업이익률', '비유동장기적합률', 'const']  AIC: <statsmodels.regression.linear_model.RegressionResultsWrapper object at 0x7f4317904c10>\n",
            "Processed  13 models on 7 predictors in 0.2414689064025879\n",
            "Selected predictors: ['총자산순이익률', '차입금의존도', '총자본영업이익률', '총자산영업이익률', '비유동장기적합률', '자기자본회전률', '자기자본순이익률', 'const'] AIC:  <statsmodels.regression.linear_model.RegressionResultsWrapper object at 0x7f431794e710>\n",
            "forward\n",
            "Processed  7 models on 6 predictors in 0.12979745864868164\n",
            "Selected predictors: ['총자산순이익률', '차입금의존도', '총자본영업이익률', '총자산영업이익률', '비유동장기적합률', '자기자본회전률', 'const']  AIC: <statsmodels.regression.linear_model.RegressionResultsWrapper object at 0x7f4317956090>\n",
            "Processed  12 models on 8 predictors in 0.22902274131774902\n",
            "Selected predictors: ['총자산순이익률', '차입금의존도', '총자본영업이익률', '총자산영업이익률', '비유동장기적합률', '자기자본회전률', '자기자본순이익률', 'ocf 대 유동부채', 'const'] AIC:  <statsmodels.regression.linear_model.RegressionResultsWrapper object at 0x7f4317987c10>\n",
            "forward\n",
            "Processed  8 models on 7 predictors in 0.1594250202178955\n",
            "Selected predictors: ['총자산순이익률', '차입금의존도', '총자본영업이익률', '총자산영업이익률', '비유동장기적합률', '자기자본회전률', '자기자본순이익률', 'const']  AIC: <statsmodels.regression.linear_model.RegressionResultsWrapper object at 0x7f4317904ed0>\n",
            "Processed  11 models on 9 predictors in 0.22679662704467773\n",
            "Selected predictors: ['총자산순이익률', '차입금의존도', '총자본영업이익률', '총자산영업이익률', '비유동장기적합률', '자기자본회전률', '자기자본순이익률', 'ocf 대 유동부채', '총자산회전율', 'const'] AIC:  <statsmodels.regression.linear_model.RegressionResultsWrapper object at 0x7f43178fc590>\n",
            "forward\n",
            "Processed  9 models on 8 predictors in 0.17374372482299805\n",
            "Selected predictors: ['총자산순이익률', '차입금의존도', '총자본영업이익률', '총자산영업이익률', '비유동장기적합률', '자기자본회전률', '자기자본순이익률', 'ocf 대 유동부채', 'const']  AIC: <statsmodels.regression.linear_model.RegressionResultsWrapper object at 0x7f4317904950>\n",
            "Processed  10 models on 10 predictors in 0.22769498825073242\n",
            "Selected predictors: ['총자산순이익률', '차입금의존도', '총자본영업이익률', '총자산영업이익률', '비유동장기적합률', '자기자본회전률', '자기자본순이익률', 'ocf 대 유동부채', '총자산회전율', '자산(*)(천원)', 'const'] AIC:  <statsmodels.regression.linear_model.RegressionResultsWrapper object at 0x7f4317904250>\n",
            "forward\n",
            "Processed  10 models on 9 predictors in 0.2051851749420166\n",
            "Selected predictors: ['총자산순이익률', '차입금의존도', '총자본영업이익률', '총자산영업이익률', '비유동장기적합률', '자기자본회전률', '자기자본순이익률', 'ocf 대 유동부채', '총자산회전율', 'const']  AIC: <statsmodels.regression.linear_model.RegressionResultsWrapper object at 0x7f431794e190>\n",
            "backward\n",
            "Processed  10 models on 10 predictors in 0.23043060302734375\n",
            "Selected predictors: ['총자산순이익률', '차입금의존도', '총자본영업이익률', '총자산영업이익률', '비유동장기적합률', '자기자본회전률', '자기자본순이익률', 'ocf 대 유동부채', '총자산회전율', '자산(*)(천원)', 'const'] AIC:  <statsmodels.regression.linear_model.RegressionResultsWrapper object at 0x7f4317904f50>\n",
            "forward\n",
            "Processed  10 models on 9 predictors in 0.21881794929504395\n",
            "Selected predictors: ['총자산순이익률', '차입금의존도', '총자본영업이익률', '총자산영업이익률', '비유동장기적합률', '자기자본회전률', '자기자본순이익률', 'ocf 대 유동부채', '총자산회전율', 'const']  AIC: <statsmodels.regression.linear_model.RegressionResultsWrapper object at 0x7f4317904850>\n",
            "backward\n",
            "Processed  10 models on 10 predictors in 0.2262427806854248\n",
            "Selected predictors: ['총자산순이익률', '차입금의존도', '총자본영업이익률', '총자산영업이익률', '비유동장기적합률', '자기자본회전률', '자기자본순이익률', 'ocf 대 유동부채', '총자산회전율', '자산(*)(천원)', 'const'] AIC:  <statsmodels.regression.linear_model.RegressionResultsWrapper object at 0x7f43178fc250>\n",
            "forward\n",
            "Processed  10 models on 9 predictors in 0.22151565551757812\n",
            "Selected predictors: ['총자산순이익률', '차입금의존도', '총자본영업이익률', '총자산영업이익률', '비유동장기적합률', '자기자본회전률', '자기자본순이익률', 'ocf 대 유동부채', '총자산회전율', 'const']  AIC: <statsmodels.regression.linear_model.RegressionResultsWrapper object at 0x7f43178fc750>\n",
            "backward\n",
            "Processed  10 models on 10 predictors in 0.23494958877563477\n",
            "Selected predictors: ['총자산순이익률', '차입금의존도', '총자본영업이익률', '총자산영업이익률', '비유동장기적합률', '자기자본회전률', '자기자본순이익률', 'ocf 대 유동부채', '총자산회전율', '자산(*)(천원)', 'const'] AIC:  <statsmodels.regression.linear_model.RegressionResultsWrapper object at 0x7f4317904f50>\n",
            "forward\n",
            "Processed  10 models on 9 predictors in 0.20650458335876465\n",
            "Selected predictors: ['총자산순이익률', '차입금의존도', '총자본영업이익률', '총자산영업이익률', '비유동장기적합률', '자기자본회전률', '자기자본순이익률', 'ocf 대 유동부채', '총자산회전율', 'const']  AIC: <statsmodels.regression.linear_model.RegressionResultsWrapper object at 0x7f4317904350>\n",
            "backward\n",
            "Processed  10 models on 10 predictors in 0.2335209846496582\n",
            "Selected predictors: ['총자산순이익률', '차입금의존도', '총자본영업이익률', '총자산영업이익률', '비유동장기적합률', '자기자본회전률', '자기자본순이익률', 'ocf 대 유동부채', '총자산회전율', '자산(*)(천원)', 'const'] AIC:  <statsmodels.regression.linear_model.RegressionResultsWrapper object at 0x7f43178fcf10>\n",
            "forward\n",
            "Processed  10 models on 9 predictors in 0.19845342636108398\n",
            "Selected predictors: ['총자산순이익률', '차입금의존도', '총자본영업이익률', '총자산영업이익률', '비유동장기적합률', '자기자본회전률', '자기자본순이익률', 'ocf 대 유동부채', '총자산회전율', 'const']  AIC: <statsmodels.regression.linear_model.RegressionResultsWrapper object at 0x7f4317904a90>\n",
            "backward\n",
            "Processed  10 models on 10 predictors in 0.21153855323791504\n",
            "Selected predictors: ['총자산순이익률', '차입금의존도', '총자본영업이익률', '총자산영업이익률', '비유동장기적합률', '자기자본회전률', '자기자본순이익률', 'ocf 대 유동부채', '총자산회전율', '자산(*)(천원)', 'const'] AIC:  <statsmodels.regression.linear_model.RegressionResultsWrapper object at 0x7f43179042d0>\n",
            "forward\n",
            "Processed  10 models on 9 predictors in 0.2235403060913086\n",
            "Selected predictors: ['총자산순이익률', '차입금의존도', '총자본영업이익률', '총자산영업이익률', '비유동장기적합률', '자기자본회전률', '자기자본순이익률', 'ocf 대 유동부채', '총자산회전율', 'const']  AIC: <statsmodels.regression.linear_model.RegressionResultsWrapper object at 0x7f4317904550>\n",
            "backward\n",
            "Processed  10 models on 10 predictors in 0.20856213569641113\n",
            "Selected predictors: ['총자산순이익률', '차입금의존도', '총자본영업이익률', '총자산영업이익률', '비유동장기적합률', '자기자본회전률', '자기자본순이익률', 'ocf 대 유동부채', '총자산회전율', '자산(*)(천원)', 'const'] AIC:  <statsmodels.regression.linear_model.RegressionResultsWrapper object at 0x7f4317956610>\n",
            "forward\n",
            "Processed  10 models on 9 predictors in 0.21938061714172363\n",
            "Selected predictors: ['총자산순이익률', '차입금의존도', '총자본영업이익률', '총자산영업이익률', '비유동장기적합률', '자기자본회전률', '자기자본순이익률', 'ocf 대 유동부채', '총자산회전율', 'const']  AIC: <statsmodels.regression.linear_model.RegressionResultsWrapper object at 0x7f4317960d10>\n",
            "backward\n",
            "Processed  10 models on 10 predictors in 0.21566557884216309\n",
            "Selected predictors: ['총자산순이익률', '차입금의존도', '총자본영업이익률', '총자산영업이익률', '비유동장기적합률', '자기자본회전률', '자기자본순이익률', 'ocf 대 유동부채', '총자산회전율', '자산(*)(천원)', 'const'] AIC:  <statsmodels.regression.linear_model.RegressionResultsWrapper object at 0x7f4317919590>\n",
            "forward\n",
            "Processed  10 models on 9 predictors in 0.25682735443115234\n",
            "Selected predictors: ['총자산순이익률', '차입금의존도', '총자본영업이익률', '총자산영업이익률', '비유동장기적합률', '자기자본회전률', '자기자본순이익률', 'ocf 대 유동부채', '총자산회전율', 'const']  AIC: <statsmodels.regression.linear_model.RegressionResultsWrapper object at 0x7f431794e290>\n",
            "backward\n",
            "Processed  10 models on 10 predictors in 0.22969269752502441\n",
            "Selected predictors: ['총자산순이익률', '차입금의존도', '총자본영업이익률', '총자산영업이익률', '비유동장기적합률', '자기자본회전률', '자기자본순이익률', 'ocf 대 유동부채', '총자산회전율', '자산(*)(천원)', 'const'] AIC:  <statsmodels.regression.linear_model.RegressionResultsWrapper object at 0x7f4317956250>\n",
            "forward\n",
            "Processed  10 models on 9 predictors in 0.20721936225891113\n",
            "Selected predictors: ['총자산순이익률', '차입금의존도', '총자본영업이익률', '총자산영업이익률', '비유동장기적합률', '자기자본회전률', '자기자본순이익률', 'ocf 대 유동부채', '총자산회전율', 'const']  AIC: <statsmodels.regression.linear_model.RegressionResultsWrapper object at 0x7f431794e810>\n",
            "backward\n",
            "Processed  10 models on 10 predictors in 0.21874475479125977\n",
            "Selected predictors: ['총자산순이익률', '차입금의존도', '총자본영업이익률', '총자산영업이익률', '비유동장기적합률', '자기자본회전률', '자기자본순이익률', 'ocf 대 유동부채', '총자산회전율', '자산(*)(천원)', 'const'] AIC:  <statsmodels.regression.linear_model.RegressionResultsWrapper object at 0x7f4317957550>\n",
            "forward\n",
            "Processed  10 models on 9 predictors in 0.21171116828918457\n",
            "Selected predictors: ['총자산순이익률', '차입금의존도', '총자본영업이익률', '총자산영업이익률', '비유동장기적합률', '자기자본회전률', '자기자본순이익률', 'ocf 대 유동부채', '총자산회전율', 'const']  AIC: <statsmodels.regression.linear_model.RegressionResultsWrapper object at 0x7f4317956b50>\n",
            "backward\n",
            "Total elapsed time: 7.82401180267334 seconds.\n"
          ]
        }
      ]
    },
    {
      "cell_type": "code",
      "source": [
        "# 단계적 선택법 AIC\n",
        "Stepwise_best_model.aic"
      ],
      "metadata": {
        "colab": {
          "base_uri": "https://localhost:8080/"
        },
        "id": "z2FzX2rCkhft",
        "outputId": "a535af47-6676-472a-c7e2-50084c945d39"
      },
      "execution_count": null,
      "outputs": [
        {
          "output_type": "execute_result",
          "data": {
            "text/plain": [
              "-31640.66152513023"
            ]
          },
          "metadata": {},
          "execution_count": 24
        }
      ]
    },
    {
      "cell_type": "code",
      "source": [
        "print(Stepwise_best_model.summary())"
      ],
      "metadata": {
        "colab": {
          "base_uri": "https://localhost:8080/"
        },
        "id": "ARSdTufakryS",
        "outputId": "d4b6be76-ca9d-4250-aef1-8e3c709b2087"
      },
      "execution_count": null,
      "outputs": [
        {
          "output_type": "stream",
          "name": "stdout",
          "text": [
            "                            OLS Regression Results                            \n",
            "==============================================================================\n",
            "Dep. Variable:                   부도여부   R-squared:                       0.094\n",
            "Model:                            OLS   Adj. R-squared:                  0.094\n",
            "Method:                 Least Squares   F-statistic:                     202.7\n",
            "Date:                Tue, 21 Dec 2021   Prob (F-statistic):               0.00\n",
            "Time:                        12:19:09   Log-Likelihood:                 15830.\n",
            "No. Observations:               17591   AIC:                        -3.164e+04\n",
            "Df Residuals:                   17581   BIC:                        -3.156e+04\n",
            "Df Model:                           9                                         \n",
            "Covariance Type:            nonrobust                                         \n",
            "==============================================================================\n",
            "                 coef    std err          t      P>|t|      [0.025      0.975]\n",
            "------------------------------------------------------------------------------\n",
            "총자산순이익률       -0.0568      0.003    -20.496      0.000      -0.062      -0.051\n",
            "차입금의존도         0.0004   4.29e-05      9.522      0.000       0.000       0.000\n",
            "총자본영업이익률      -0.0008   9.07e-05     -9.010      0.000      -0.001      -0.001\n",
            "총자산영업이익률       0.0214      0.005      4.406      0.000       0.012       0.031\n",
            "비유동장기적합률      4.2e-05   1.13e-05      3.727      0.000    1.99e-05    6.41e-05\n",
            "자기자본회전률       -0.0013      0.000     -3.939      0.000      -0.002      -0.001\n",
            "자기자본순이익률   -2.753e-05   9.08e-06     -3.033      0.002   -4.53e-05   -9.74e-06\n",
            "ocf 대 유동부채     0.0006      0.000      2.139      0.032    4.72e-05       0.001\n",
            "총자산회전율         0.0030      0.001      2.078      0.038       0.000       0.006\n",
            "const         -0.0011      0.002     -0.590      0.555      -0.005       0.002\n",
            "==============================================================================\n",
            "Omnibus:                    24520.469   Durbin-Watson:                   2.012\n",
            "Prob(Omnibus):                  0.000   Jarque-Bera (JB):          4823552.331\n",
            "Skew:                           8.432   Prob(JB):                         0.00\n",
            "Kurtosis:                      82.351   Cond. No.                         803.\n",
            "==============================================================================\n",
            "\n",
            "Warnings:\n",
            "[1] Standard Errors assume that the covariance matrix of the errors is correctly specified.\n"
          ]
        }
      ]
    },
    {
      "cell_type": "code",
      "source": [
        "# 9개\n",
        "print(\"단계별 선택법 결과:\")\n",
        "print(\"\")\n",
        "Stepwise_best_model.params"
      ],
      "metadata": {
        "colab": {
          "base_uri": "https://localhost:8080/"
        },
        "id": "WWf4D8o1_5wN",
        "outputId": "27480d9b-c55b-4eaf-a90e-67fa4e9116ea"
      },
      "execution_count": null,
      "outputs": [
        {
          "output_type": "stream",
          "name": "stdout",
          "text": [
            "단계별 선택법 결과:\n",
            "\n"
          ]
        },
        {
          "output_type": "execute_result",
          "data": {
            "text/plain": [
              "총자산순이익률      -0.056849\n",
              "차입금의존도        0.000409\n",
              "총자본영업이익률     -0.000817\n",
              "총자산영업이익률      0.021444\n",
              "비유동장기적합률      0.000042\n",
              "자기자본회전률      -0.001305\n",
              "자기자본순이익률     -0.000028\n",
              "ocf 대 유동부채    0.000565\n",
              "총자산회전율        0.003044\n",
              "const        -0.001055\n",
              "dtype: float64"
            ]
          },
          "metadata": {},
          "execution_count": 26
        }
      ]
    },
    {
      "cell_type": "markdown",
      "source": [
        "- 3 모델 모두 같은 변수 9개 추출"
      ],
      "metadata": {
        "id": "_Zt4wSUADDhV"
      }
    },
    {
      "cell_type": "code",
      "source": [
        "# 9개 변수를 가진 데이터\n",
        "final_col = Backward_best_model.params.index[:-1]\n",
        "data_2 = data.loc[:, final_col]\n",
        "data_2 = pd.concat([data_2, data['부도여부']], axis=1)\n",
        "data_2.shape"
      ],
      "metadata": {
        "colab": {
          "base_uri": "https://localhost:8080/"
        },
        "id": "MjzOwmErDHVG",
        "outputId": "59d130fa-c172-4cff-8326-5d7c59593e25"
      },
      "execution_count": null,
      "outputs": [
        {
          "output_type": "execute_result",
          "data": {
            "text/plain": [
              "(17591, 10)"
            ]
          },
          "metadata": {},
          "execution_count": 27
        }
      ]
    },
    {
      "cell_type": "markdown",
      "source": [
        "# 3. 다중공선성 - VIF test"
      ],
      "metadata": {
        "id": "Zmg-4CSPu3Ro"
      }
    },
    {
      "cell_type": "code",
      "source": [
        "from statsmodels.stats.outliers_influence import variance_inflation_factor\n",
        "\n",
        "# 보통 VIF가 10이 넘으면 다중공선성이 있다고 판단한다.\n",
        "\n",
        "vif = pd.DataFrame()\n",
        "vif['VIF Factor'] = [variance_inflation_factor(data_2.drop(['부도여부'], axis=1).values, i) for i in range(data_2.drop(['부도여부'], axis=1).shape[1])]\n",
        "vif['features'] = data_2.drop(['부도여부'], axis=1).columns\n",
        "vif = vif.sort_values('VIF Factor', ascending=False).reset_index(drop=True)\n",
        "vif"
      ],
      "metadata": {
        "colab": {
          "base_uri": "https://localhost:8080/",
          "height": 332
        },
        "id": "dxOAZOUaFam9",
        "outputId": "b3e9942e-661e-48d9-b802-da6bd7f78a1e"
      },
      "execution_count": null,
      "outputs": [
        {
          "output_type": "execute_result",
          "data": {
            "text/html": [
              "\n",
              "  <div id=\"df-20ce90bb-3419-4a77-995d-f5e4589b889a\">\n",
              "    <div class=\"colab-df-container\">\n",
              "      <div>\n",
              "<style scoped>\n",
              "    .dataframe tbody tr th:only-of-type {\n",
              "        vertical-align: middle;\n",
              "    }\n",
              "\n",
              "    .dataframe tbody tr th {\n",
              "        vertical-align: top;\n",
              "    }\n",
              "\n",
              "    .dataframe thead th {\n",
              "        text-align: right;\n",
              "    }\n",
              "</style>\n",
              "<table border=\"1\" class=\"dataframe\">\n",
              "  <thead>\n",
              "    <tr style=\"text-align: right;\">\n",
              "      <th></th>\n",
              "      <th>VIF Factor</th>\n",
              "      <th>features</th>\n",
              "    </tr>\n",
              "  </thead>\n",
              "  <tbody>\n",
              "    <tr>\n",
              "      <th>0</th>\n",
              "      <td>3.171445</td>\n",
              "      <td>총자산회전율</td>\n",
              "    </tr>\n",
              "    <tr>\n",
              "      <th>1</th>\n",
              "      <td>2.781158</td>\n",
              "      <td>총자산영업이익률</td>\n",
              "    </tr>\n",
              "    <tr>\n",
              "      <th>2</th>\n",
              "      <td>2.536515</td>\n",
              "      <td>총자산순이익률</td>\n",
              "    </tr>\n",
              "    <tr>\n",
              "      <th>3</th>\n",
              "      <td>2.483940</td>\n",
              "      <td>차입금의존도</td>\n",
              "    </tr>\n",
              "    <tr>\n",
              "      <th>4</th>\n",
              "      <td>2.291957</td>\n",
              "      <td>총자본영업이익률</td>\n",
              "    </tr>\n",
              "    <tr>\n",
              "      <th>5</th>\n",
              "      <td>2.271203</td>\n",
              "      <td>비유동장기적합률</td>\n",
              "    </tr>\n",
              "    <tr>\n",
              "      <th>6</th>\n",
              "      <td>2.260316</td>\n",
              "      <td>자기자본회전률</td>\n",
              "    </tr>\n",
              "    <tr>\n",
              "      <th>7</th>\n",
              "      <td>1.173913</td>\n",
              "      <td>자기자본순이익률</td>\n",
              "    </tr>\n",
              "    <tr>\n",
              "      <th>8</th>\n",
              "      <td>1.040347</td>\n",
              "      <td>ocf 대 유동부채</td>\n",
              "    </tr>\n",
              "  </tbody>\n",
              "</table>\n",
              "</div>\n",
              "      <button class=\"colab-df-convert\" onclick=\"convertToInteractive('df-20ce90bb-3419-4a77-995d-f5e4589b889a')\"\n",
              "              title=\"Convert this dataframe to an interactive table.\"\n",
              "              style=\"display:none;\">\n",
              "        \n",
              "  <svg xmlns=\"http://www.w3.org/2000/svg\" height=\"24px\"viewBox=\"0 0 24 24\"\n",
              "       width=\"24px\">\n",
              "    <path d=\"M0 0h24v24H0V0z\" fill=\"none\"/>\n",
              "    <path d=\"M18.56 5.44l.94 2.06.94-2.06 2.06-.94-2.06-.94-.94-2.06-.94 2.06-2.06.94zm-11 1L8.5 8.5l.94-2.06 2.06-.94-2.06-.94L8.5 2.5l-.94 2.06-2.06.94zm10 10l.94 2.06.94-2.06 2.06-.94-2.06-.94-.94-2.06-.94 2.06-2.06.94z\"/><path d=\"M17.41 7.96l-1.37-1.37c-.4-.4-.92-.59-1.43-.59-.52 0-1.04.2-1.43.59L10.3 9.45l-7.72 7.72c-.78.78-.78 2.05 0 2.83L4 21.41c.39.39.9.59 1.41.59.51 0 1.02-.2 1.41-.59l7.78-7.78 2.81-2.81c.8-.78.8-2.07 0-2.86zM5.41 20L4 18.59l7.72-7.72 1.47 1.35L5.41 20z\"/>\n",
              "  </svg>\n",
              "      </button>\n",
              "      \n",
              "  <style>\n",
              "    .colab-df-container {\n",
              "      display:flex;\n",
              "      flex-wrap:wrap;\n",
              "      gap: 12px;\n",
              "    }\n",
              "\n",
              "    .colab-df-convert {\n",
              "      background-color: #E8F0FE;\n",
              "      border: none;\n",
              "      border-radius: 50%;\n",
              "      cursor: pointer;\n",
              "      display: none;\n",
              "      fill: #1967D2;\n",
              "      height: 32px;\n",
              "      padding: 0 0 0 0;\n",
              "      width: 32px;\n",
              "    }\n",
              "\n",
              "    .colab-df-convert:hover {\n",
              "      background-color: #E2EBFA;\n",
              "      box-shadow: 0px 1px 2px rgba(60, 64, 67, 0.3), 0px 1px 3px 1px rgba(60, 64, 67, 0.15);\n",
              "      fill: #174EA6;\n",
              "    }\n",
              "\n",
              "    [theme=dark] .colab-df-convert {\n",
              "      background-color: #3B4455;\n",
              "      fill: #D2E3FC;\n",
              "    }\n",
              "\n",
              "    [theme=dark] .colab-df-convert:hover {\n",
              "      background-color: #434B5C;\n",
              "      box-shadow: 0px 1px 3px 1px rgba(0, 0, 0, 0.15);\n",
              "      filter: drop-shadow(0px 1px 2px rgba(0, 0, 0, 0.3));\n",
              "      fill: #FFFFFF;\n",
              "    }\n",
              "  </style>\n",
              "\n",
              "      <script>\n",
              "        const buttonEl =\n",
              "          document.querySelector('#df-20ce90bb-3419-4a77-995d-f5e4589b889a button.colab-df-convert');\n",
              "        buttonEl.style.display =\n",
              "          google.colab.kernel.accessAllowed ? 'block' : 'none';\n",
              "\n",
              "        async function convertToInteractive(key) {\n",
              "          const element = document.querySelector('#df-20ce90bb-3419-4a77-995d-f5e4589b889a');\n",
              "          const dataTable =\n",
              "            await google.colab.kernel.invokeFunction('convertToInteractive',\n",
              "                                                     [key], {});\n",
              "          if (!dataTable) return;\n",
              "\n",
              "          const docLinkHtml = 'Like what you see? Visit the ' +\n",
              "            '<a target=\"_blank\" href=https://colab.research.google.com/notebooks/data_table.ipynb>data table notebook</a>'\n",
              "            + ' to learn more about interactive tables.';\n",
              "          element.innerHTML = '';\n",
              "          dataTable['output_type'] = 'display_data';\n",
              "          await google.colab.output.renderOutput(dataTable, element);\n",
              "          const docLink = document.createElement('div');\n",
              "          docLink.innerHTML = docLinkHtml;\n",
              "          element.appendChild(docLink);\n",
              "        }\n",
              "      </script>\n",
              "    </div>\n",
              "  </div>\n",
              "  "
            ],
            "text/plain": [
              "   VIF Factor    features\n",
              "0    3.171445      총자산회전율\n",
              "1    2.781158    총자산영업이익률\n",
              "2    2.536515     총자산순이익률\n",
              "3    2.483940      차입금의존도\n",
              "4    2.291957    총자본영업이익률\n",
              "5    2.271203    비유동장기적합률\n",
              "6    2.260316     자기자본회전률\n",
              "7    1.173913    자기자본순이익률\n",
              "8    1.040347  ocf 대 유동부채"
            ]
          },
          "metadata": {},
          "execution_count": 28
        }
      ]
    },
    {
      "cell_type": "markdown",
      "source": [
        "- 모두 통과"
      ],
      "metadata": {
        "id": "w9Lo9KWOYKyY"
      }
    },
    {
      "cell_type": "code",
      "source": [
        "# 부채비율이 차입금비율보다 더 넓은 개념이므로 \n",
        "\n",
        "# vif = pd.DataFrame()\n",
        "# vif['VIF Factor'] = [variance_inflation_factor(data_2.drop(['부도여부', '차입금비율'], axis=1).values, i) for i in range(data_2.drop(['부도여부', '차입금비율'], axis=1).shape[1])]\n",
        "# vif['features'] = data_2.drop(['부도여부', '차입금비율'], axis=1).columns\n",
        "# vif = vif.sort_values('VIF Factor', ascending=False).reset_index(drop=True)\n",
        "# vif"
      ],
      "metadata": {
        "id": "3n9PiXiTshJb"
      },
      "execution_count": null,
      "outputs": []
    },
    {
      "cell_type": "code",
      "source": [
        "# # 최종 변수 선택한 데이터\n",
        "# data_final = data_2.drop(['차입금비율'], axis=1)\n",
        "# data_final.shape"
      ],
      "metadata": {
        "id": "FestuyQXtDxQ"
      },
      "execution_count": null,
      "outputs": []
    },
    {
      "cell_type": "markdown",
      "source": [
        "# 상관관계 변화 파악"
      ],
      "metadata": {
        "id": "ATrQzEI3-qK6"
      }
    },
    {
      "cell_type": "code",
      "source": [
        "import warnings\n",
        "warnings.filterwarnings(action='ignore')\n",
        "import matplotlib.pyplot as plt\n",
        "plt.rc('font', family='NanumBarunGothic') "
      ],
      "metadata": {
        "id": "Ro5uOIp2AV5h"
      },
      "execution_count": null,
      "outputs": []
    },
    {
      "cell_type": "code",
      "source": [
        "import seaborn as sns\n",
        "plt.figure(figsize=(25,25))\n",
        "\n",
        "df = data_2.corr()\n",
        "mask = np.zeros_like(df, dtype=np.bool)\n",
        "mask[np.triu_indices_from(mask)]=True\n",
        "sns.heatmap(abs(df),\n",
        "            cbar=True,\n",
        "            annot=True,\n",
        "            mask=mask, \n",
        "            linewidths=0.5,\n",
        "            cbar_kws={\"shrink\":.5},\n",
        "            cmap='Greens')"
      ],
      "metadata": {
        "colab": {
          "base_uri": "https://localhost:8080/",
          "height": 1000
        },
        "id": "pjQV-zdI-sav",
        "outputId": "49de164f-0821-4527-e193-a6d2169f3ae1"
      },
      "execution_count": null,
      "outputs": [
        {
          "output_type": "execute_result",
          "data": {
            "text/plain": [
              "<matplotlib.axes._subplots.AxesSubplot at 0x7f4317919f10>"
            ]
          },
          "metadata": {},
          "execution_count": 32
        },
        {
          "output_type": "display_data",
          "data": {
            "image/png": "[encoded data removed]",
            "text/plain": [
              "<Figure size 1800x1800 with 2 Axes>"
            ]
          },
          "metadata": {
            "needs_background": "light"
          }
        }
      ]
    },
    {
      "cell_type": "code",
      "source": [
        "col_num=data_2.select_dtypes(include=[\"int64\",\"float64\"]).columns.tolist()\n",
        "import seaborn as sns\n",
        "fig,axs=plt.subplots(2,5,figsize=(25,20))\n",
        "for col, ax in zip(col_num, axs.flatten()):\n",
        "  b = sns.boxplot(y=data_2[col], ax=ax, color='green')\n",
        "  b.set_xlabel(col, fontsize=13)\n",
        "  plt.subplots_adjust(wspace=.35)"
      ],
      "metadata": {
        "colab": {
          "base_uri": "https://localhost:8080/",
          "height": 1000
        },
        "id": "LDH4-y_egNm1",
        "outputId": "813b9468-7b20-4fab-998e-aa69177b541e"
      },
      "execution_count": null,
      "outputs": [
        {
          "output_type": "display_data",
          "data": {
            "image/png": "[encoded data removed]",
            "text/plain": [
              "<Figure size 1800x1440 with 10 Axes>"
            ]
          },
          "metadata": {
            "needs_background": "light"
          }
        }
      ]
    },
    {
      "cell_type": "code",
      "source": [
        "data_2.to_csv(\"변수선정완료.csv\")"
      ],
      "metadata": {
        "id": "hwxpTqo6wlge"
      },
      "execution_count": null,
      "outputs": []
    },
    {
      "cell_type": "markdown",
      "source": [
        "# Scaling 진행"
      ],
      "metadata": {
        "id": "b5_TO0PCBI-Q"
      }
    },
    {
      "cell_type": "code",
      "source": [
        "# 정상과 부도 기업의 비율을 맞춰 split\n",
        "import numpy as np\n",
        "from sklearn.model_selection import train_test_split\n",
        "\n",
        "X_train, X_test, y_train, y_test = train_test_split(data_2.drop(['부도여부'], axis=1), data_2['부도여부'], \n",
        "                                                    test_size=0.2, \n",
        "                                                    shuffle=True,\n",
        "                                                    random_state=777, \n",
        "                                                    stratify=data_2['부도여부'])"
      ],
      "metadata": {
        "id": "Qs_wKjDvBQkh"
      },
      "execution_count": null,
      "outputs": []
    },
    {
      "cell_type": "code",
      "source": [
        "print(y_train.value_counts())\n",
        "print(y_test.value_counts())"
      ],
      "metadata": {
        "colab": {
          "base_uri": "https://localhost:8080/"
        },
        "id": "aktOy84QBU1g",
        "outputId": "44ba34ec-e2f2-4b7c-9be9-c70f8ceee2c1"
      },
      "execution_count": null,
      "outputs": [
        {
          "output_type": "stream",
          "name": "stdout",
          "text": [
            "0.0    13920\n",
            "1.0      152\n",
            "Name: 부도여부, dtype: int64\n",
            "0.0    3481\n",
            "1.0      38\n",
            "Name: 부도여부, dtype: int64\n"
          ]
        }
      ]
    },
    {
      "cell_type": "code",
      "source": [
        "data_2.describe()"
      ],
      "metadata": {
        "colab": {
          "base_uri": "https://localhost:8080/",
          "height": 300
        },
        "id": "URAumGR4nu6z",
        "outputId": "faa57835-1094-4bf0-f5a3-9fbf3d9056ca"
      },
      "execution_count": null,
      "outputs": [
        {
          "output_type": "execute_result",
          "data": {
            "text/html": [
              "<div>\n",
              "<style scoped>\n",
              "    .dataframe tbody tr th:only-of-type {\n",
              "        vertical-align: middle;\n",
              "    }\n",
              "\n",
              "    .dataframe tbody tr th {\n",
              "        vertical-align: top;\n",
              "    }\n",
              "\n",
              "    .dataframe thead th {\n",
              "        text-align: right;\n",
              "    }\n",
              "</style>\n",
              "<table border=\"1\" class=\"dataframe\">\n",
              "  <thead>\n",
              "    <tr style=\"text-align: right;\">\n",
              "      <th></th>\n",
              "      <th>총자산순이익률</th>\n",
              "      <th>차입금의존도</th>\n",
              "      <th>총자본영업이익률</th>\n",
              "      <th>총자산영업이익률</th>\n",
              "      <th>비유동장기적합률</th>\n",
              "      <th>자기자본회전률</th>\n",
              "      <th>자기자본순이익률</th>\n",
              "      <th>ocf 대 유동부채</th>\n",
              "      <th>총자산회전율</th>\n",
              "      <th>부도여부</th>\n",
              "    </tr>\n",
              "  </thead>\n",
              "  <tbody>\n",
              "    <tr>\n",
              "      <th>count</th>\n",
              "      <td>17591.000000</td>\n",
              "      <td>17591.000000</td>\n",
              "      <td>17591.000000</td>\n",
              "      <td>17591.000000</td>\n",
              "      <td>17591.000000</td>\n",
              "      <td>17591.000000</td>\n",
              "      <td>17591.000000</td>\n",
              "      <td>17591.000000</td>\n",
              "      <td>17591.000000</td>\n",
              "      <td>17591.000000</td>\n",
              "    </tr>\n",
              "    <tr>\n",
              "      <th>mean</th>\n",
              "      <td>-0.023681</td>\n",
              "      <td>21.741482</td>\n",
              "      <td>3.717373</td>\n",
              "      <td>0.028559</td>\n",
              "      <td>83.283070</td>\n",
              "      <td>1.990701</td>\n",
              "      <td>-3.266259</td>\n",
              "      <td>0.303268</td>\n",
              "      <td>0.948889</td>\n",
              "      <td>0.010801</td>\n",
              "    </tr>\n",
              "    <tr>\n",
              "      <th>std</th>\n",
              "      <td>0.425431</td>\n",
              "      <td>19.815872</td>\n",
              "      <td>11.843383</td>\n",
              "      <td>0.252665</td>\n",
              "      <td>72.448219</td>\n",
              "      <td>2.880039</td>\n",
              "      <td>88.517143</td>\n",
              "      <td>2.858432</td>\n",
              "      <td>0.658002</td>\n",
              "      <td>0.103368</td>\n",
              "    </tr>\n",
              "    <tr>\n",
              "      <th>min</th>\n",
              "      <td>-28.844252</td>\n",
              "      <td>0.000000</td>\n",
              "      <td>-406.460000</td>\n",
              "      <td>-26.682140</td>\n",
              "      <td>0.000000</td>\n",
              "      <td>0.000000</td>\n",
              "      <td>-9535.640000</td>\n",
              "      <td>-87.348397</td>\n",
              "      <td>0.000000</td>\n",
              "      <td>0.000000</td>\n",
              "    </tr>\n",
              "    <tr>\n",
              "      <th>25%</th>\n",
              "      <td>-0.010763</td>\n",
              "      <td>4.460000</td>\n",
              "      <td>0.470000</td>\n",
              "      <td>0.004611</td>\n",
              "      <td>54.735000</td>\n",
              "      <td>0.820000</td>\n",
              "      <td>-1.340000</td>\n",
              "      <td>-0.025346</td>\n",
              "      <td>0.544941</td>\n",
              "      <td>0.000000</td>\n",
              "    </tr>\n",
              "    <tr>\n",
              "      <th>50%</th>\n",
              "      <td>0.028889</td>\n",
              "      <td>18.800000</td>\n",
              "      <td>3.940000</td>\n",
              "      <td>0.037800</td>\n",
              "      <td>76.830000</td>\n",
              "      <td>1.440000</td>\n",
              "      <td>5.280000</td>\n",
              "      <td>0.156276</td>\n",
              "      <td>0.828932</td>\n",
              "      <td>0.000000</td>\n",
              "    </tr>\n",
              "    <tr>\n",
              "      <th>75%</th>\n",
              "      <td>0.069514</td>\n",
              "      <td>34.350000</td>\n",
              "      <td>8.490000</td>\n",
              "      <td>0.080275</td>\n",
              "      <td>100.325000</td>\n",
              "      <td>2.440000</td>\n",
              "      <td>12.300000</td>\n",
              "      <td>0.444592</td>\n",
              "      <td>1.194622</td>\n",
              "      <td>0.000000</td>\n",
              "    </tr>\n",
              "    <tr>\n",
              "      <th>max</th>\n",
              "      <td>3.364062</td>\n",
              "      <td>322.710000</td>\n",
              "      <td>109.710000</td>\n",
              "      <td>0.678386</td>\n",
              "      <td>4276.030000</td>\n",
              "      <td>247.810000</td>\n",
              "      <td>917.140000</td>\n",
              "      <td>259.726413</td>\n",
              "      <td>10.318173</td>\n",
              "      <td>1.000000</td>\n",
              "    </tr>\n",
              "  </tbody>\n",
              "</table>\n",
              "</div>"
            ],
            "text/plain": [
              "            총자산순이익률        차입금의존도  ...        총자산회전율          부도여부\n",
              "count  17591.000000  17591.000000  ...  17591.000000  17591.000000\n",
              "mean      -0.023681     21.741482  ...      0.948889      0.010801\n",
              "std        0.425431     19.815872  ...      0.658002      0.103368\n",
              "min      -28.844252      0.000000  ...      0.000000      0.000000\n",
              "25%       -0.010763      4.460000  ...      0.544941      0.000000\n",
              "50%        0.028889     18.800000  ...      0.828932      0.000000\n",
              "75%        0.069514     34.350000  ...      1.194622      0.000000\n",
              "max        3.364062    322.710000  ...     10.318173      1.000000\n",
              "\n",
              "[8 rows x 10 columns]"
            ]
          },
          "metadata": {},
          "execution_count": 60
        }
      ]
    },
    {
      "cell_type": "code",
      "source": [
        "# 이상치의 영향을 최소화하는 RobustScaler\n",
        "\n",
        "X_train_rs = X_train\n",
        "X_test_rs = X_test\n",
        "\n",
        "for i in X_train.columns:\n",
        "  rs = RobustScaler()\n",
        "  X_train_rs[i] = rs.fit_transform(X_train_rs[i].values.reshape(-1,1))\n",
        "  X_test_rs[i] = rs.transform(X_test_rs[i].values.reshape(-1,1))\n",
        "    \n",
        "X_train_rs.head(5)"
      ],
      "metadata": {
        "colab": {
          "base_uri": "https://localhost:8080/",
          "height": 288
        },
        "id": "X72FIqzEBIgF",
        "outputId": "05f29289-388b-478f-e686-5e356df9c993"
      },
      "execution_count": null,
      "outputs": [
        {
          "output_type": "execute_result",
          "data": {
            "text/html": [
              "\n",
              "  <div id=\"df-612f22ef-8cf7-4e65-88da-4cd59ee327e1\">\n",
              "    <div class=\"colab-df-container\">\n",
              "      <div>\n",
              "<style scoped>\n",
              "    .dataframe tbody tr th:only-of-type {\n",
              "        vertical-align: middle;\n",
              "    }\n",
              "\n",
              "    .dataframe tbody tr th {\n",
              "        vertical-align: top;\n",
              "    }\n",
              "\n",
              "    .dataframe thead th {\n",
              "        text-align: right;\n",
              "    }\n",
              "</style>\n",
              "<table border=\"1\" class=\"dataframe\">\n",
              "  <thead>\n",
              "    <tr style=\"text-align: right;\">\n",
              "      <th></th>\n",
              "      <th>ocf 대 유동부채</th>\n",
              "      <th>비유동장기적합률</th>\n",
              "      <th>자기자본순이익률</th>\n",
              "      <th>자기자본회전률</th>\n",
              "      <th>차입금의존도</th>\n",
              "      <th>총자본영업이익률</th>\n",
              "      <th>총자산순이익률</th>\n",
              "      <th>총자산영업이익률</th>\n",
              "      <th>총자산회전율</th>\n",
              "    </tr>\n",
              "  </thead>\n",
              "  <tbody>\n",
              "    <tr>\n",
              "      <th>11287</th>\n",
              "      <td>3.948693</td>\n",
              "      <td>-0.874952</td>\n",
              "      <td>3.818049</td>\n",
              "      <td>0.012270</td>\n",
              "      <td>-0.519887</td>\n",
              "      <td>6.067164</td>\n",
              "      <td>4.174301</td>\n",
              "      <td>5.057810</td>\n",
              "      <td>0.514915</td>\n",
              "    </tr>\n",
              "    <tr>\n",
              "      <th>18995</th>\n",
              "      <td>-1.037843</td>\n",
              "      <td>-0.169947</td>\n",
              "      <td>-1.763464</td>\n",
              "      <td>1.871166</td>\n",
              "      <td>0.955899</td>\n",
              "      <td>-2.126866</td>\n",
              "      <td>-1.089466</td>\n",
              "      <td>-1.993893</td>\n",
              "      <td>1.228087</td>\n",
              "    </tr>\n",
              "    <tr>\n",
              "      <th>15947</th>\n",
              "      <td>-0.082492</td>\n",
              "      <td>-0.801272</td>\n",
              "      <td>-1.841339</td>\n",
              "      <td>-0.282209</td>\n",
              "      <td>0.079547</td>\n",
              "      <td>-1.199005</td>\n",
              "      <td>-1.958062</td>\n",
              "      <td>-1.237460</td>\n",
              "      <td>-0.283797</td>\n",
              "    </tr>\n",
              "    <tr>\n",
              "      <th>15488</th>\n",
              "      <td>-0.359071</td>\n",
              "      <td>-0.294940</td>\n",
              "      <td>1.283843</td>\n",
              "      <td>0.165644</td>\n",
              "      <td>0.723248</td>\n",
              "      <td>0.920398</td>\n",
              "      <td>0.818674</td>\n",
              "      <td>0.932663</td>\n",
              "      <td>-0.129352</td>\n",
              "    </tr>\n",
              "    <tr>\n",
              "      <th>4612</th>\n",
              "      <td>-0.141993</td>\n",
              "      <td>-0.797763</td>\n",
              "      <td>0.056041</td>\n",
              "      <td>1.165644</td>\n",
              "      <td>0.840739</td>\n",
              "      <td>0.067164</td>\n",
              "      <td>-0.039793</td>\n",
              "      <td>0.064634</td>\n",
              "      <td>1.042068</td>\n",
              "    </tr>\n",
              "  </tbody>\n",
              "</table>\n",
              "</div>\n",
              "      <button class=\"colab-df-convert\" onclick=\"convertToInteractive('df-612f22ef-8cf7-4e65-88da-4cd59ee327e1')\"\n",
              "              title=\"Convert this dataframe to an interactive table.\"\n",
              "              style=\"display:none;\">\n",
              "        \n",
              "  <svg xmlns=\"http://www.w3.org/2000/svg\" height=\"24px\"viewBox=\"0 0 24 24\"\n",
              "       width=\"24px\">\n",
              "    <path d=\"M0 0h24v24H0V0z\" fill=\"none\"/>\n",
              "    <path d=\"M18.56 5.44l.94 2.06.94-2.06 2.06-.94-2.06-.94-.94-2.06-.94 2.06-2.06.94zm-11 1L8.5 8.5l.94-2.06 2.06-.94-2.06-.94L8.5 2.5l-.94 2.06-2.06.94zm10 10l.94 2.06.94-2.06 2.06-.94-2.06-.94-.94-2.06-.94 2.06-2.06.94z\"/><path d=\"M17.41 7.96l-1.37-1.37c-.4-.4-.92-.59-1.43-.59-.52 0-1.04.2-1.43.59L10.3 9.45l-7.72 7.72c-.78.78-.78 2.05 0 2.83L4 21.41c.39.39.9.59 1.41.59.51 0 1.02-.2 1.41-.59l7.78-7.78 2.81-2.81c.8-.78.8-2.07 0-2.86zM5.41 20L4 18.59l7.72-7.72 1.47 1.35L5.41 20z\"/>\n",
              "  </svg>\n",
              "      </button>\n",
              "      \n",
              "  <style>\n",
              "    .colab-df-container {\n",
              "      display:flex;\n",
              "      flex-wrap:wrap;\n",
              "      gap: 12px;\n",
              "    }\n",
              "\n",
              "    .colab-df-convert {\n",
              "      background-color: #E8F0FE;\n",
              "      border: none;\n",
              "      border-radius: 50%;\n",
              "      cursor: pointer;\n",
              "      display: none;\n",
              "      fill: #1967D2;\n",
              "      height: 32px;\n",
              "      padding: 0 0 0 0;\n",
              "      width: 32px;\n",
              "    }\n",
              "\n",
              "    .colab-df-convert:hover {\n",
              "      background-color: #E2EBFA;\n",
              "      box-shadow: 0px 1px 2px rgba(60, 64, 67, 0.3), 0px 1px 3px 1px rgba(60, 64, 67, 0.15);\n",
              "      fill: #174EA6;\n",
              "    }\n",
              "\n",
              "    [theme=dark] .colab-df-convert {\n",
              "      background-color: #3B4455;\n",
              "      fill: #D2E3FC;\n",
              "    }\n",
              "\n",
              "    [theme=dark] .colab-df-convert:hover {\n",
              "      background-color: #434B5C;\n",
              "      box-shadow: 0px 1px 3px 1px rgba(0, 0, 0, 0.15);\n",
              "      filter: drop-shadow(0px 1px 2px rgba(0, 0, 0, 0.3));\n",
              "      fill: #FFFFFF;\n",
              "    }\n",
              "  </style>\n",
              "\n",
              "      <script>\n",
              "        const buttonEl =\n",
              "          document.querySelector('#df-612f22ef-8cf7-4e65-88da-4cd59ee327e1 button.colab-df-convert');\n",
              "        buttonEl.style.display =\n",
              "          google.colab.kernel.accessAllowed ? 'block' : 'none';\n",
              "\n",
              "        async function convertToInteractive(key) {\n",
              "          const element = document.querySelector('#df-612f22ef-8cf7-4e65-88da-4cd59ee327e1');\n",
              "          const dataTable =\n",
              "            await google.colab.kernel.invokeFunction('convertToInteractive',\n",
              "                                                     [key], {});\n",
              "          if (!dataTable) return;\n",
              "\n",
              "          const docLinkHtml = 'Like what you see? Visit the ' +\n",
              "            '<a target=\"_blank\" href=https://colab.research.google.com/notebooks/data_table.ipynb>data table notebook</a>'\n",
              "            + ' to learn more about interactive tables.';\n",
              "          element.innerHTML = '';\n",
              "          dataTable['output_type'] = 'display_data';\n",
              "          await google.colab.output.renderOutput(dataTable, element);\n",
              "          const docLink = document.createElement('div');\n",
              "          docLink.innerHTML = docLinkHtml;\n",
              "          element.appendChild(docLink);\n",
              "        }\n",
              "      </script>\n",
              "    </div>\n",
              "  </div>\n",
              "  "
            ],
            "text/plain": [
              "       ocf 대 유동부채  비유동장기적합률  자기자본순이익률  ...   총자산순이익률  총자산영업이익률    총자산회전율\n",
              "11287    3.948693 -0.874952  3.818049  ...  4.174301  5.057810  0.514915\n",
              "18995   -1.037843 -0.169947 -1.763464  ... -1.089466 -1.993893  1.228087\n",
              "15947   -0.082492 -0.801272 -1.841339  ... -1.958062 -1.237460 -0.283797\n",
              "15488   -0.359071 -0.294940  1.283843  ...  0.818674  0.932663 -0.129352\n",
              "4612    -0.141993 -0.797763  0.056041  ... -0.039793  0.064634  1.042068\n",
              "\n",
              "[5 rows x 9 columns]"
            ]
          },
          "metadata": {},
          "execution_count": 58
        }
      ]
    },
    {
      "cell_type": "code",
      "source": [
        "import seaborn as sns\n",
        "plt.figure(figsize=(25,25))\n",
        "df_train_hit = X_train_rs.corr()\n",
        "df_test_hit = X_test_rs.corr()\n",
        "mask = np.zeros_like(df_train_hit, dtype=np.bool)\n",
        "mask[np.triu_indices_from(mask)]=True\n",
        "sns.heatmap(df_train_hit,\n",
        "            cbar=True,\n",
        "            annot=True,\n",
        "            mask=mask, \n",
        "            linewidths=0.5,\n",
        "            cbar_kws={\"shrink\":.5},\n",
        "            cmap='Blues')"
      ],
      "metadata": {
        "id": "L5U_7OEBxJVc",
        "colab": {
          "base_uri": "https://localhost:8080/",
          "height": 947
        },
        "outputId": "c665db45-83f8-4e44-8fe4-b441db028645"
      },
      "execution_count": null,
      "outputs": [
        {
          "output_type": "execute_result",
          "data": {
            "text/plain": [
              "<matplotlib.axes._subplots.AxesSubplot at 0x7f04617178d0>"
            ]
          },
          "metadata": {},
          "execution_count": 30
        },
        {
          "output_type": "display_data",
          "data": {
            "image/png": "[encoded data removed]",
            "text/plain": [
              "<Figure size 1800x1800 with 2 Axes>"
            ]
          },
          "metadata": {
            "needs_background": "light"
          }
        }
      ]
    },
    {
      "cell_type": "code",
      "source": [
        "cd /content/drive/MyDrive/금융빅데이터분석가/기업 부실 예측/data"
      ],
      "metadata": {
        "colab": {
          "base_uri": "https://localhost:8080/"
        },
        "id": "MFDFdZFandO-",
        "outputId": "bfa19d78-8dd8-44cd-c263-2ea32ab9926d"
      },
      "execution_count": null,
      "outputs": [
        {
          "output_type": "stream",
          "name": "stdout",
          "text": [
            "/content/drive/MyDrive/금융빅데이터분석가/기업 부실 예측/data\n"
          ]
        }
      ]
    },
    {
      "cell_type": "code",
      "source": [
        "X_train_rs.to_csv(\"X_train.csv\")\n",
        "X_test_rs.to_csv(\"X_test.csv\")\n",
        "y_train.to_csv(\"y_train.csv\")\n",
        "y_test.to_csv(\"y_test.csv\")"
      ],
      "metadata": {
        "id": "3hBr1uKrvRDz"
      },
      "execution_count": null,
      "outputs": []
    },
    {
      "cell_type": "code",
      "source": [
        ""
      ],
      "metadata": {
        "id": "j-BFR2hNHHy1"
      },
      "execution_count": null,
      "outputs": []
    }
  ]
}