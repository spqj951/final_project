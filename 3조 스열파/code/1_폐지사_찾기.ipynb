{
 "cells": [
  {
   "cell_type": "code",
   "execution_count": 33,
   "id": "a4e496f7",
   "metadata": {
    "ExecuteTime": {
     "end_time": "2021-12-21T07:37:32.616585Z",
     "start_time": "2021-12-21T07:37:32.613394Z"
    }
   },
   "outputs": [],
   "source": [
    "import pandas as pd\n",
    "import numpy as np\n",
    "import warnings\n",
    "warnings.filterwarnings('ignore')"
   ]
  },
  {
   "cell_type": "code",
   "execution_count": 3,
   "id": "a45b59d4",
   "metadata": {
    "ExecuteTime": {
     "end_time": "2021-12-21T06:20:46.102418Z",
     "start_time": "2021-12-21T06:20:45.836448Z"
    }
   },
   "outputs": [],
   "source": [
    "df1 = pd.read_csv(\"data4_미포함.csv\", index_col = 0)\n",
    "df2 = pd.read_csv(\"data4_포함.csv\", index_col = 0)"
   ]
  },
  {
   "cell_type": "code",
   "execution_count": 4,
   "id": "70c4fb56",
   "metadata": {
    "ExecuteTime": {
     "end_time": "2021-12-21T06:21:03.904588Z",
     "start_time": "2021-12-21T06:21:03.890759Z"
    }
   },
   "outputs": [
    {
     "name": "stdout",
     "output_type": "stream",
     "text": [
      "<class 'pandas.core.frame.DataFrame'>\n",
      "Int64Index: 17773 entries, 0 to 17772\n",
      "Data columns (total 45 columns):\n",
      " #   Column                          Non-Null Count  Dtype  \n",
      "---  ------                          --------------  -----  \n",
      " 0   회사명                             17773 non-null  object \n",
      " 1   거래소코드                           17773 non-null  int64  \n",
      " 2   회계년도                            17773 non-null  object \n",
      " 3   [제조]총자본순이익률                     17322 non-null  float64\n",
      " 4   [제조]총자본영업이익률                    17322 non-null  float64\n",
      " 5   [제조]자기자본순이익률                    17322 non-null  float64\n",
      " 6   [제조]매출액총이익률                     17322 non-null  float64\n",
      " 7   [제조]매출액영업이익률                    17322 non-null  float64\n",
      " 8   [제조]금융비용부담률                     17322 non-null  float64\n",
      " 9   [제조]자기자본배율                      17322 non-null  float64\n",
      " 10  [제조]부채비율                        17322 non-null  float64\n",
      " 11  [제조]유동비율                        17322 non-null  float64\n",
      " 12  [제조]당좌비율                        17322 non-null  float64\n",
      " 13  [제조]차입금의존도                      17322 non-null  float64\n",
      " 14  [제조]비유동장기적합률                    17322 non-null  float64\n",
      " 15  [제조]총자본회전률                      17322 non-null  float64\n",
      " 16  [제조]자기자본회전률                     17322 non-null  float64\n",
      " 17  [제조]운전자본회전률                     17322 non-null  float64\n",
      " 18  [제조]매출채권회전률                     17322 non-null  float64\n",
      " 19  [제조]재고자산회전률                     17322 non-null  float64\n",
      " 20  [제조]매입채무회전률                     17322 non-null  float64\n",
      " 21  [제조]총자본증가율                      17322 non-null  float64\n",
      " 22  [제조]유동자산증가율                     17322 non-null  float64\n",
      " 23  [제조]매출액증가율                      17322 non-null  float64\n",
      " 24  [제조]순이익증가율                      17322 non-null  float64\n",
      " 25  [제조]자기자본증가율                     17322 non-null  float64\n",
      " 26  [제조]CASH FLOW 대 부채비율            17322 non-null  float64\n",
      " 27  [제조]CASH FLOW 대 매출액비율           17322 non-null  float64\n",
      " 28  [제조]유형자산증가율                     17322 non-null  float64\n",
      " 29  [제조]차입금비율                       17322 non-null  float64\n",
      " 30  [제조]영업이익(손실)(천원)                17604 non-null  float64\n",
      " 31  [제조]법인세비용차감전(계속사업)손익(천원)        17604 non-null  float64\n",
      " 32  업종코드                            17773 non-null  int64  \n",
      " 33  소속코드                            17773 non-null  int64  \n",
      " 34  감사의견코드                          17613 non-null  object \n",
      " 35  [제조]자산(*)(천원)                   17604 non-null  float64\n",
      " 36  [제조]   이자비용(천원)                 17604 non-null  float64\n",
      " 37  [제조]자본(*)(천원)                   17604 non-null  float64\n",
      " 38  [제조]   비유동자산(*)(천원)             17604 non-null  float64\n",
      " 39  [제조]         현금 및 현금성자산(*)(천원)  17604 non-null  float64\n",
      " 40  [제조]   유동부채(*)(천원)              17604 non-null  float64\n",
      " 41  [제조]영업활동으로 인한 현금흐름(*)(천원)       17604 non-null  float64\n",
      " 42  [제조]매출액(영업수익)(*)(천원)            17604 non-null  float64\n",
      " 43  [제조]   당기순이익(손실)(천원)            17604 non-null  float64\n",
      " 44  상장폐지일                           0 non-null      float64\n",
      "dtypes: float64(39), int64(3), object(3)\n",
      "memory usage: 6.2+ MB\n"
     ]
    }
   ],
   "source": [
    "df1.info()"
   ]
  },
  {
   "cell_type": "code",
   "execution_count": 5,
   "id": "70e7f64d",
   "metadata": {
    "ExecuteTime": {
     "end_time": "2021-12-21T06:21:10.297953Z",
     "start_time": "2021-12-21T06:21:10.284093Z"
    }
   },
   "outputs": [
    {
     "name": "stdout",
     "output_type": "stream",
     "text": [
      "<class 'pandas.core.frame.DataFrame'>\n",
      "Int64Index: 19989 entries, 0 to 19988\n",
      "Data columns (total 45 columns):\n",
      " #   Column                          Non-Null Count  Dtype  \n",
      "---  ------                          --------------  -----  \n",
      " 0   회사명                             19989 non-null  object \n",
      " 1   거래소코드                           19989 non-null  int64  \n",
      " 2   회계년도                            19989 non-null  object \n",
      " 3   [제조]총자본순이익률                     19489 non-null  float64\n",
      " 4   [제조]총자본영업이익률                    19489 non-null  float64\n",
      " 5   [제조]자기자본순이익률                    19489 non-null  float64\n",
      " 6   [제조]매출액총이익률                     19489 non-null  float64\n",
      " 7   [제조]매출액영업이익률                    19489 non-null  float64\n",
      " 8   [제조]금융비용부담률                     19489 non-null  float64\n",
      " 9   [제조]자기자본배율                      19489 non-null  float64\n",
      " 10  [제조]부채비율                        19489 non-null  float64\n",
      " 11  [제조]유동비율                        19489 non-null  float64\n",
      " 12  [제조]당좌비율                        19489 non-null  float64\n",
      " 13  [제조]차입금의존도                      19489 non-null  float64\n",
      " 14  [제조]비유동장기적합률                    19489 non-null  float64\n",
      " 15  [제조]총자본회전률                      19489 non-null  float64\n",
      " 16  [제조]자기자본회전률                     19489 non-null  float64\n",
      " 17  [제조]운전자본회전률                     19489 non-null  float64\n",
      " 18  [제조]매출채권회전률                     19489 non-null  float64\n",
      " 19  [제조]재고자산회전률                     19489 non-null  float64\n",
      " 20  [제조]매입채무회전률                     19489 non-null  float64\n",
      " 21  [제조]총자본증가율                      19489 non-null  float64\n",
      " 22  [제조]유동자산증가율                     19489 non-null  float64\n",
      " 23  [제조]매출액증가율                      19489 non-null  float64\n",
      " 24  [제조]순이익증가율                      19489 non-null  float64\n",
      " 25  [제조]자기자본증가율                     19489 non-null  float64\n",
      " 26  [제조]CASH FLOW 대 부채비율            19489 non-null  float64\n",
      " 27  [제조]CASH FLOW 대 매출액비율           19489 non-null  float64\n",
      " 28  [제조]유형자산증가율                     19489 non-null  float64\n",
      " 29  [제조]차입금비율                       19489 non-null  float64\n",
      " 30  [제조]영업이익(손실)(천원)                19770 non-null  float64\n",
      " 31  [제조]법인세비용차감전(계속사업)손익(천원)        19770 non-null  float64\n",
      " 32  업종코드                            19979 non-null  float64\n",
      " 33  소속코드                            19979 non-null  float64\n",
      " 34  감사의견코드                          19760 non-null  object \n",
      " 35  [제조]자산(*)(천원)                   19770 non-null  float64\n",
      " 36  [제조]   이자비용(천원)                 19770 non-null  float64\n",
      " 37  [제조]자본(*)(천원)                   19770 non-null  float64\n",
      " 38  [제조]   비유동자산(*)(천원)             19770 non-null  float64\n",
      " 39  [제조]         현금 및 현금성자산(*)(천원)  19770 non-null  float64\n",
      " 40  [제조]   유동부채(*)(천원)              19770 non-null  float64\n",
      " 41  [제조]영업활동으로 인한 현금흐름(*)(천원)       19770 non-null  float64\n",
      " 42  [제조]매출액(영업수익)(*)(천원)            19770 non-null  float64\n",
      " 43  [제조]   당기순이익(손실)(천원)            19770 non-null  float64\n",
      " 44  상장폐지일                           2206 non-null   object \n",
      "dtypes: float64(40), int64(1), object(4)\n",
      "memory usage: 7.0+ MB\n"
     ]
    }
   ],
   "source": [
    "df2.info()"
   ]
  },
  {
   "cell_type": "code",
   "execution_count": 6,
   "id": "9c1b970b",
   "metadata": {
    "ExecuteTime": {
     "end_time": "2021-12-21T06:22:06.290612Z",
     "start_time": "2021-12-21T06:22:06.273340Z"
    }
   },
   "outputs": [],
   "source": [
    "df1['거래소코드'] = df1.거래소코드.map('{:06d}'.format)\n",
    "df2['거래소코드'] = df2.거래소코드.map('{:06d}'.format)"
   ]
  },
  {
   "cell_type": "code",
   "execution_count": 17,
   "id": "19a65f37",
   "metadata": {
    "ExecuteTime": {
     "end_time": "2021-12-21T06:30:20.340860Z",
     "start_time": "2021-12-21T06:30:20.332906Z"
    }
   },
   "outputs": [],
   "source": [
    "# 폐지사를 찾기 위해 두 데이터를 거래소코드만을 가져와 비교함.\n",
    "# df1을 거래소코드로 정렬\n",
    "to_dataframe = np.array(pd.unique(df1['거래소코드']))\n",
    "df1_code = pd.DataFrame(to_dataframe, columns = ['거래소코드'])\n",
    "df1_code.sort_values(['거래소코드'], ascending = True, inplace = True)\n",
    "df1_code.reset_index(inplace = True)\n",
    "df1_code.set_index(['거래소코드'], inplace = True)\n",
    "df1_code.rename(columns = {'index' : 'index of df1'}, inplace = True)"
   ]
  },
  {
   "cell_type": "code",
   "execution_count": 18,
   "id": "e76a6420",
   "metadata": {
    "ExecuteTime": {
     "end_time": "2021-12-21T06:30:27.902915Z",
     "start_time": "2021-12-21T06:30:27.893374Z"
    }
   },
   "outputs": [],
   "source": [
    "# df2를 거래소코드로 정렬\n",
    "to_dataframe2 = np.array(pd.unique(df2['거래소코드']))\n",
    "df2_code = pd.DataFrame(to_dataframe2, columns = ['거래소코드'])\n",
    "df2_code.sort_values(['거래소코드'],ascending = True, inplace = True)\n",
    "df2_code.reset_index(inplace = True)\n",
    "df2_code.set_index(['거래소코드'], inplace = True)\n",
    "df2_code.rename(columns = {'index' : 'index of df2'}, inplace = True)"
   ]
  },
  {
   "cell_type": "code",
   "execution_count": 19,
   "id": "74c94482",
   "metadata": {
    "ExecuteTime": {
     "end_time": "2021-12-21T06:30:29.487265Z",
     "start_time": "2021-12-21T06:30:29.475027Z"
    }
   },
   "outputs": [
    {
     "data": {
      "text/html": [
       "<div>\n",
       "<style scoped>\n",
       "    .dataframe tbody tr th:only-of-type {\n",
       "        vertical-align: middle;\n",
       "    }\n",
       "\n",
       "    .dataframe tbody tr th {\n",
       "        vertical-align: top;\n",
       "    }\n",
       "\n",
       "    .dataframe thead th {\n",
       "        text-align: right;\n",
       "    }\n",
       "</style>\n",
       "<table border=\"1\" class=\"dataframe\">\n",
       "  <thead>\n",
       "    <tr style=\"text-align: right;\">\n",
       "      <th></th>\n",
       "      <th>index of df1</th>\n",
       "      <th>index of df2</th>\n",
       "    </tr>\n",
       "    <tr>\n",
       "      <th>거래소코드</th>\n",
       "      <th></th>\n",
       "      <th></th>\n",
       "    </tr>\n",
       "  </thead>\n",
       "  <tbody>\n",
       "    <tr>\n",
       "      <th>000020</th>\n",
       "      <td>1212.0</td>\n",
       "      <td>1558</td>\n",
       "    </tr>\n",
       "    <tr>\n",
       "      <th>000040</th>\n",
       "      <td>1593.0</td>\n",
       "      <td>2008</td>\n",
       "    </tr>\n",
       "    <tr>\n",
       "      <th>000050</th>\n",
       "      <td>19.0</td>\n",
       "      <td>21</td>\n",
       "    </tr>\n",
       "    <tr>\n",
       "      <th>000070</th>\n",
       "      <td>292.0</td>\n",
       "      <td>371</td>\n",
       "    </tr>\n",
       "    <tr>\n",
       "      <th>000080</th>\n",
       "      <td>1657.0</td>\n",
       "      <td>2095</td>\n",
       "    </tr>\n",
       "    <tr>\n",
       "      <th>...</th>\n",
       "      <td>...</td>\n",
       "      <td>...</td>\n",
       "    </tr>\n",
       "    <tr>\n",
       "      <th>900060</th>\n",
       "      <td>NaN</td>\n",
       "      <td>1981</td>\n",
       "    </tr>\n",
       "    <tr>\n",
       "      <th>900150</th>\n",
       "      <td>NaN</td>\n",
       "      <td>1695</td>\n",
       "    </tr>\n",
       "    <tr>\n",
       "      <th>950010</th>\n",
       "      <td>NaN</td>\n",
       "      <td>2078</td>\n",
       "    </tr>\n",
       "    <tr>\n",
       "      <th>950030</th>\n",
       "      <td>NaN</td>\n",
       "      <td>82</td>\n",
       "    </tr>\n",
       "    <tr>\n",
       "      <th>950070</th>\n",
       "      <td>NaN</td>\n",
       "      <td>1980</td>\n",
       "    </tr>\n",
       "  </tbody>\n",
       "</table>\n",
       "<p>2212 rows × 2 columns</p>\n",
       "</div>"
      ],
      "text/plain": [
       "        index of df1  index of df2\n",
       "거래소코드                             \n",
       "000020        1212.0          1558\n",
       "000040        1593.0          2008\n",
       "000050          19.0            21\n",
       "000070         292.0           371\n",
       "000080        1657.0          2095\n",
       "...              ...           ...\n",
       "900060           NaN          1981\n",
       "900150           NaN          1695\n",
       "950010           NaN          2078\n",
       "950030           NaN            82\n",
       "950070           NaN          1980\n",
       "\n",
       "[2212 rows x 2 columns]"
      ]
     },
     "execution_count": 19,
     "metadata": {},
     "output_type": "execute_result"
    }
   ],
   "source": [
    "df = pd.concat([df1_code, df2_code], axis = 1)\n",
    "df"
   ]
  },
  {
   "cell_type": "code",
   "execution_count": 20,
   "id": "6e2d4ad3",
   "metadata": {
    "ExecuteTime": {
     "end_time": "2021-12-21T06:32:05.339246Z",
     "start_time": "2021-12-21T06:32:05.329504Z"
    }
   },
   "outputs": [
    {
     "data": {
      "text/html": [
       "<div>\n",
       "<style scoped>\n",
       "    .dataframe tbody tr th:only-of-type {\n",
       "        vertical-align: middle;\n",
       "    }\n",
       "\n",
       "    .dataframe tbody tr th {\n",
       "        vertical-align: top;\n",
       "    }\n",
       "\n",
       "    .dataframe thead th {\n",
       "        text-align: right;\n",
       "    }\n",
       "</style>\n",
       "<table border=\"1\" class=\"dataframe\">\n",
       "  <thead>\n",
       "    <tr style=\"text-align: right;\">\n",
       "      <th></th>\n",
       "      <th>index of df1</th>\n",
       "      <th>index of df2</th>\n",
       "    </tr>\n",
       "    <tr>\n",
       "      <th>거래소코드</th>\n",
       "      <th></th>\n",
       "      <th></th>\n",
       "    </tr>\n",
       "  </thead>\n",
       "  <tbody>\n",
       "    <tr>\n",
       "      <th>000360</th>\n",
       "      <td>NaN</td>\n",
       "      <td>1676</td>\n",
       "    </tr>\n",
       "    <tr>\n",
       "      <th>000420</th>\n",
       "      <td>NaN</td>\n",
       "      <td>238</td>\n",
       "    </tr>\n",
       "    <tr>\n",
       "      <th>000790</th>\n",
       "      <td>NaN</td>\n",
       "      <td>520</td>\n",
       "    </tr>\n",
       "    <tr>\n",
       "      <th>000800</th>\n",
       "      <td>NaN</td>\n",
       "      <td>1413</td>\n",
       "    </tr>\n",
       "    <tr>\n",
       "      <th>000830</th>\n",
       "      <td>NaN</td>\n",
       "      <td>1645</td>\n",
       "    </tr>\n",
       "    <tr>\n",
       "      <th>...</th>\n",
       "      <td>...</td>\n",
       "      <td>...</td>\n",
       "    </tr>\n",
       "    <tr>\n",
       "      <th>900060</th>\n",
       "      <td>NaN</td>\n",
       "      <td>1981</td>\n",
       "    </tr>\n",
       "    <tr>\n",
       "      <th>900150</th>\n",
       "      <td>NaN</td>\n",
       "      <td>1695</td>\n",
       "    </tr>\n",
       "    <tr>\n",
       "      <th>950010</th>\n",
       "      <td>NaN</td>\n",
       "      <td>2078</td>\n",
       "    </tr>\n",
       "    <tr>\n",
       "      <th>950030</th>\n",
       "      <td>NaN</td>\n",
       "      <td>82</td>\n",
       "    </tr>\n",
       "    <tr>\n",
       "      <th>950070</th>\n",
       "      <td>NaN</td>\n",
       "      <td>1980</td>\n",
       "    </tr>\n",
       "  </tbody>\n",
       "</table>\n",
       "<p>450 rows × 2 columns</p>\n",
       "</div>"
      ],
      "text/plain": [
       "        index of df1  index of df2\n",
       "거래소코드                             \n",
       "000360           NaN          1676\n",
       "000420           NaN           238\n",
       "000790           NaN           520\n",
       "000800           NaN          1413\n",
       "000830           NaN          1645\n",
       "...              ...           ...\n",
       "900060           NaN          1981\n",
       "900150           NaN          1695\n",
       "950010           NaN          2078\n",
       "950030           NaN            82\n",
       "950070           NaN          1980\n",
       "\n",
       "[450 rows x 2 columns]"
      ]
     },
     "execution_count": 20,
     "metadata": {},
     "output_type": "execute_result"
    }
   ],
   "source": [
    "# df1에 nan 값만 추출하여 폐지사 선정\n",
    "new_df = df[df['index of df1'].isna()]\n",
    "new_df"
   ]
  },
  {
   "cell_type": "code",
   "execution_count": 22,
   "id": "793c1ad9",
   "metadata": {
    "ExecuteTime": {
     "end_time": "2021-12-21T06:33:18.853715Z",
     "start_time": "2021-12-21T06:33:18.846390Z"
    }
   },
   "outputs": [
    {
     "data": {
      "text/html": [
       "<div>\n",
       "<style scoped>\n",
       "    .dataframe tbody tr th:only-of-type {\n",
       "        vertical-align: middle;\n",
       "    }\n",
       "\n",
       "    .dataframe tbody tr th {\n",
       "        vertical-align: top;\n",
       "    }\n",
       "\n",
       "    .dataframe thead th {\n",
       "        text-align: right;\n",
       "    }\n",
       "</style>\n",
       "<table border=\"1\" class=\"dataframe\">\n",
       "  <thead>\n",
       "    <tr style=\"text-align: right;\">\n",
       "      <th></th>\n",
       "      <th>거래소코드</th>\n",
       "    </tr>\n",
       "  </thead>\n",
       "  <tbody>\n",
       "    <tr>\n",
       "      <th>0</th>\n",
       "      <td>000360</td>\n",
       "    </tr>\n",
       "    <tr>\n",
       "      <th>1</th>\n",
       "      <td>000420</td>\n",
       "    </tr>\n",
       "    <tr>\n",
       "      <th>2</th>\n",
       "      <td>000790</td>\n",
       "    </tr>\n",
       "    <tr>\n",
       "      <th>3</th>\n",
       "      <td>000800</td>\n",
       "    </tr>\n",
       "    <tr>\n",
       "      <th>4</th>\n",
       "      <td>000830</td>\n",
       "    </tr>\n",
       "    <tr>\n",
       "      <th>...</th>\n",
       "      <td>...</td>\n",
       "    </tr>\n",
       "    <tr>\n",
       "      <th>445</th>\n",
       "      <td>900060</td>\n",
       "    </tr>\n",
       "    <tr>\n",
       "      <th>446</th>\n",
       "      <td>900150</td>\n",
       "    </tr>\n",
       "    <tr>\n",
       "      <th>447</th>\n",
       "      <td>950010</td>\n",
       "    </tr>\n",
       "    <tr>\n",
       "      <th>448</th>\n",
       "      <td>950030</td>\n",
       "    </tr>\n",
       "    <tr>\n",
       "      <th>449</th>\n",
       "      <td>950070</td>\n",
       "    </tr>\n",
       "  </tbody>\n",
       "</table>\n",
       "<p>450 rows × 1 columns</p>\n",
       "</div>"
      ],
      "text/plain": [
       "      거래소코드\n",
       "0    000360\n",
       "1    000420\n",
       "2    000790\n",
       "3    000800\n",
       "4    000830\n",
       "..      ...\n",
       "445  900060\n",
       "446  900150\n",
       "447  950010\n",
       "448  950030\n",
       "449  950070\n",
       "\n",
       "[450 rows x 1 columns]"
      ]
     },
     "execution_count": 22,
     "metadata": {},
     "output_type": "execute_result"
    }
   ],
   "source": [
    "# 폐지사 출력\n",
    "li = np.array(new_df.index)\n",
    "dff = pd.DataFrame(li, columns = ['거래소코드'])\n",
    "dff"
   ]
  },
  {
   "cell_type": "code",
   "execution_count": 23,
   "id": "a887b17f",
   "metadata": {
    "ExecuteTime": {
     "end_time": "2021-12-21T07:33:11.729564Z",
     "start_time": "2021-12-21T07:33:11.713036Z"
    }
   },
   "outputs": [
    {
     "data": {
      "text/html": [
       "<div>\n",
       "<style scoped>\n",
       "    .dataframe tbody tr th:only-of-type {\n",
       "        vertical-align: middle;\n",
       "    }\n",
       "\n",
       "    .dataframe tbody tr th {\n",
       "        vertical-align: top;\n",
       "    }\n",
       "\n",
       "    .dataframe thead th {\n",
       "        text-align: right;\n",
       "    }\n",
       "</style>\n",
       "<table border=\"1\" class=\"dataframe\">\n",
       "  <thead>\n",
       "    <tr style=\"text-align: right;\">\n",
       "      <th></th>\n",
       "      <th>거래소코드</th>\n",
       "      <th>회계년도</th>\n",
       "      <th>감사의견코드</th>\n",
       "    </tr>\n",
       "  </thead>\n",
       "  <tbody>\n",
       "    <tr>\n",
       "      <th>0</th>\n",
       "      <td>000360</td>\n",
       "      <td>2010/12</td>\n",
       "      <td>UQ</td>\n",
       "    </tr>\n",
       "    <tr>\n",
       "      <th>1</th>\n",
       "      <td>000360</td>\n",
       "      <td>2011/12</td>\n",
       "      <td>UQ</td>\n",
       "    </tr>\n",
       "    <tr>\n",
       "      <th>2</th>\n",
       "      <td>000360</td>\n",
       "      <td>2012/12</td>\n",
       "      <td>UQ</td>\n",
       "    </tr>\n",
       "    <tr>\n",
       "      <th>3</th>\n",
       "      <td>000360</td>\n",
       "      <td>2009/12</td>\n",
       "      <td>UQ</td>\n",
       "    </tr>\n",
       "    <tr>\n",
       "      <th>4</th>\n",
       "      <td>000360</td>\n",
       "      <td>2008/12</td>\n",
       "      <td>UQ</td>\n",
       "    </tr>\n",
       "    <tr>\n",
       "      <th>...</th>\n",
       "      <td>...</td>\n",
       "      <td>...</td>\n",
       "      <td>...</td>\n",
       "    </tr>\n",
       "    <tr>\n",
       "      <th>2166</th>\n",
       "      <td>950030</td>\n",
       "      <td>2011/03</td>\n",
       "      <td>UQ</td>\n",
       "    </tr>\n",
       "    <tr>\n",
       "      <th>2167</th>\n",
       "      <td>950070</td>\n",
       "      <td>2010/12</td>\n",
       "      <td>NaN</td>\n",
       "    </tr>\n",
       "    <tr>\n",
       "      <th>2168</th>\n",
       "      <td>950070</td>\n",
       "      <td>2009/12</td>\n",
       "      <td>NaN</td>\n",
       "    </tr>\n",
       "    <tr>\n",
       "      <th>2169</th>\n",
       "      <td>950070</td>\n",
       "      <td>2011/12</td>\n",
       "      <td>NaN</td>\n",
       "    </tr>\n",
       "    <tr>\n",
       "      <th>2170</th>\n",
       "      <td>950070</td>\n",
       "      <td>2012/12</td>\n",
       "      <td>NaN</td>\n",
       "    </tr>\n",
       "  </tbody>\n",
       "</table>\n",
       "<p>2171 rows × 3 columns</p>\n",
       "</div>"
      ],
      "text/plain": [
       "       거래소코드     회계년도 감사의견코드\n",
       "0     000360  2010/12     UQ\n",
       "1     000360  2011/12     UQ\n",
       "2     000360  2012/12     UQ\n",
       "3     000360  2009/12     UQ\n",
       "4     000360  2008/12     UQ\n",
       "...      ...      ...    ...\n",
       "2166  950030  2011/03     UQ\n",
       "2167  950070  2010/12    NaN\n",
       "2168  950070  2009/12    NaN\n",
       "2169  950070  2011/12    NaN\n",
       "2170  950070  2012/12    NaN\n",
       "\n",
       "[2171 rows x 3 columns]"
      ]
     },
     "execution_count": 23,
     "metadata": {},
     "output_type": "execute_result"
    }
   ],
   "source": [
    "# 폐지사 중 감사의견코드 기준(DS, DU)는 부도 확정이므로 제거\n",
    "merge = pd.merge(dff, df2[['거래소코드', '회계년도', '감사의견코드']], how = 'inner', on = '거래소코드')\n",
    "merge"
   ]
  },
  {
   "cell_type": "code",
   "execution_count": 24,
   "id": "8b41b115",
   "metadata": {
    "ExecuteTime": {
     "end_time": "2021-12-21T07:33:43.657957Z",
     "start_time": "2021-12-21T07:33:43.653808Z"
    }
   },
   "outputs": [
    {
     "data": {
      "text/plain": [
       "450"
      ]
     },
     "execution_count": 24,
     "metadata": {},
     "output_type": "execute_result"
    }
   ],
   "source": [
    "len(merge.거래소코드.unique())"
   ]
  },
  {
   "cell_type": "code",
   "execution_count": 35,
   "id": "6590d0f5",
   "metadata": {
    "ExecuteTime": {
     "end_time": "2021-12-21T07:38:02.079610Z",
     "start_time": "2021-12-21T07:38:02.062869Z"
    }
   },
   "outputs": [
    {
     "data": {
      "text/html": [
       "<div>\n",
       "<style scoped>\n",
       "    .dataframe tbody tr th:only-of-type {\n",
       "        vertical-align: middle;\n",
       "    }\n",
       "\n",
       "    .dataframe tbody tr th {\n",
       "        vertical-align: top;\n",
       "    }\n",
       "\n",
       "    .dataframe thead th {\n",
       "        text-align: right;\n",
       "    }\n",
       "</style>\n",
       "<table border=\"1\" class=\"dataframe\">\n",
       "  <thead>\n",
       "    <tr style=\"text-align: right;\">\n",
       "      <th></th>\n",
       "      <th>거래소코드</th>\n",
       "      <th>회계년도</th>\n",
       "      <th>감사의견코드</th>\n",
       "    </tr>\n",
       "  </thead>\n",
       "  <tbody>\n",
       "    <tr>\n",
       "      <th>0</th>\n",
       "      <td>000360</td>\n",
       "      <td>2014/12</td>\n",
       "      <td>UQ</td>\n",
       "    </tr>\n",
       "    <tr>\n",
       "      <th>1</th>\n",
       "      <td>000420</td>\n",
       "      <td>2013/12</td>\n",
       "      <td>DU</td>\n",
       "    </tr>\n",
       "    <tr>\n",
       "      <th>2</th>\n",
       "      <td>000790</td>\n",
       "      <td>2008/12</td>\n",
       "      <td>DU</td>\n",
       "    </tr>\n",
       "    <tr>\n",
       "      <th>3</th>\n",
       "      <td>000800</td>\n",
       "      <td>2014/12</td>\n",
       "      <td>DU</td>\n",
       "    </tr>\n",
       "    <tr>\n",
       "      <th>4</th>\n",
       "      <td>000830</td>\n",
       "      <td>2014/12</td>\n",
       "      <td>UQ</td>\n",
       "    </tr>\n",
       "    <tr>\n",
       "      <th>...</th>\n",
       "      <td>...</td>\n",
       "      <td>...</td>\n",
       "      <td>...</td>\n",
       "    </tr>\n",
       "    <tr>\n",
       "      <th>445</th>\n",
       "      <td>900060</td>\n",
       "      <td>2012/03</td>\n",
       "      <td>None</td>\n",
       "    </tr>\n",
       "    <tr>\n",
       "      <th>446</th>\n",
       "      <td>900150</td>\n",
       "      <td>2011/12</td>\n",
       "      <td>None</td>\n",
       "    </tr>\n",
       "    <tr>\n",
       "      <th>447</th>\n",
       "      <td>950010</td>\n",
       "      <td>2014/12</td>\n",
       "      <td>None</td>\n",
       "    </tr>\n",
       "    <tr>\n",
       "      <th>448</th>\n",
       "      <td>950030</td>\n",
       "      <td>2011/03</td>\n",
       "      <td>UQ</td>\n",
       "    </tr>\n",
       "    <tr>\n",
       "      <th>449</th>\n",
       "      <td>950070</td>\n",
       "      <td>2012/12</td>\n",
       "      <td>None</td>\n",
       "    </tr>\n",
       "  </tbody>\n",
       "</table>\n",
       "<p>450 rows × 3 columns</p>\n",
       "</div>"
      ],
      "text/plain": [
       "      거래소코드     회계년도 감사의견코드\n",
       "0    000360  2014/12     UQ\n",
       "1    000420  2013/12     DU\n",
       "2    000790  2008/12     DU\n",
       "3    000800  2014/12     DU\n",
       "4    000830  2014/12     UQ\n",
       "..      ...      ...    ...\n",
       "445  900060  2012/03   None\n",
       "446  900150  2011/12   None\n",
       "447  950010  2014/12   None\n",
       "448  950030  2011/03     UQ\n",
       "449  950070  2012/12   None\n",
       "\n",
       "[450 rows x 3 columns]"
      ]
     },
     "execution_count": 35,
     "metadata": {},
     "output_type": "execute_result"
    }
   ],
   "source": [
    "# 각 거래소코드 중 가장 마지막년도의 감사의견코드를 확인하기 위한 코드\n",
    "merge.sort_values(by = ['거래소코드', '회계년도'], inplace = True)\n",
    "mer = merge.groupby(['거래소코드'])['회계년도', '감사의견코드'].last().reset_index()\n",
    "mer"
   ]
  },
  {
   "cell_type": "code",
   "execution_count": 36,
   "id": "1a3f7525",
   "metadata": {
    "ExecuteTime": {
     "end_time": "2021-12-21T07:41:13.733551Z",
     "start_time": "2021-12-21T07:41:13.728324Z"
    }
   },
   "outputs": [
    {
     "data": {
      "text/plain": [
       "178"
      ]
     },
     "execution_count": 36,
     "metadata": {},
     "output_type": "execute_result"
    }
   ],
   "source": [
    "# 선정 부도 기준인 감사의견코드('DS, DU')\n",
    "budo = mer[(mer['감사의견코드']=='DS') | (mer['감사의견코드']=='DU')]\n",
    "len(budo.거래소코드.unique())"
   ]
  },
  {
   "cell_type": "code",
   "execution_count": 37,
   "id": "9c0c8f01",
   "metadata": {
    "ExecuteTime": {
     "end_time": "2021-12-21T07:42:58.236302Z",
     "start_time": "2021-12-21T07:42:58.231226Z"
    }
   },
   "outputs": [
    {
     "data": {
      "text/plain": [
       "array(['UQ', None, 'QS', 'QU', 'AG', 'QG'], dtype=object)"
      ]
     },
     "execution_count": 37,
     "metadata": {},
     "output_type": "execute_result"
    }
   ],
   "source": [
    "# 선정 부도 기준인 감사의견코드('DS, DU')에 해당하지 않는 데이터를 추출\n",
    "budoYN = mer[(mer['감사의견코드']!='DS') & (mer['감사의견코드']!='DU')]\n",
    "budoYN.감사의견코드.unique()"
   ]
  },
  {
   "cell_type": "code",
   "execution_count": 63,
   "id": "f36bb8ae",
   "metadata": {
    "ExecuteTime": {
     "end_time": "2021-12-21T08:01:29.770536Z",
     "start_time": "2021-12-21T08:01:29.760064Z"
    }
   },
   "outputs": [
    {
     "data": {
      "text/html": [
       "<div>\n",
       "<style scoped>\n",
       "    .dataframe tbody tr th:only-of-type {\n",
       "        vertical-align: middle;\n",
       "    }\n",
       "\n",
       "    .dataframe tbody tr th {\n",
       "        vertical-align: top;\n",
       "    }\n",
       "\n",
       "    .dataframe thead th {\n",
       "        text-align: right;\n",
       "    }\n",
       "</style>\n",
       "<table border=\"1\" class=\"dataframe\">\n",
       "  <thead>\n",
       "    <tr style=\"text-align: right;\">\n",
       "      <th></th>\n",
       "      <th>index</th>\n",
       "    </tr>\n",
       "    <tr>\n",
       "      <th>거래소코드</th>\n",
       "      <th></th>\n",
       "    </tr>\n",
       "  </thead>\n",
       "  <tbody>\n",
       "    <tr>\n",
       "      <th>000360</th>\n",
       "      <td>0</td>\n",
       "    </tr>\n",
       "    <tr>\n",
       "      <th>000830</th>\n",
       "      <td>1</td>\n",
       "    </tr>\n",
       "    <tr>\n",
       "      <th>001300</th>\n",
       "      <td>2</td>\n",
       "    </tr>\n",
       "    <tr>\n",
       "      <th>001310</th>\n",
       "      <td>3</td>\n",
       "    </tr>\n",
       "    <tr>\n",
       "      <th>001370</th>\n",
       "      <td>4</td>\n",
       "    </tr>\n",
       "    <tr>\n",
       "      <th>...</th>\n",
       "      <td>...</td>\n",
       "    </tr>\n",
       "    <tr>\n",
       "      <th>900060</th>\n",
       "      <td>267</td>\n",
       "    </tr>\n",
       "    <tr>\n",
       "      <th>900150</th>\n",
       "      <td>268</td>\n",
       "    </tr>\n",
       "    <tr>\n",
       "      <th>950010</th>\n",
       "      <td>269</td>\n",
       "    </tr>\n",
       "    <tr>\n",
       "      <th>950030</th>\n",
       "      <td>270</td>\n",
       "    </tr>\n",
       "    <tr>\n",
       "      <th>950070</th>\n",
       "      <td>271</td>\n",
       "    </tr>\n",
       "  </tbody>\n",
       "</table>\n",
       "<p>272 rows × 1 columns</p>\n",
       "</div>"
      ],
      "text/plain": [
       "        index\n",
       "거래소코드        \n",
       "000360      0\n",
       "000830      1\n",
       "001300      2\n",
       "001310      3\n",
       "001370      4\n",
       "...       ...\n",
       "900060    267\n",
       "900150    268\n",
       "950010    269\n",
       "950030    270\n",
       "950070    271\n",
       "\n",
       "[272 rows x 1 columns]"
      ]
     },
     "execution_count": 63,
     "metadata": {},
     "output_type": "execute_result"
    }
   ],
   "source": [
    "# 수작업을 위한, 부도가 확정되지 않은 기업 데이터 추출\n",
    "to_dataframe = np.array(pd.unique(budoYN['거래소코드']))\n",
    "df = pd.DataFrame(to_dataframe, columns = ['거래소코드'])\n",
    "df.sort_values(['거래소코드'], ascending = True, inplace = True)\n",
    "df.reset_index(inplace = True)\n",
    "df.set_index(['거래소코드'], inplace =True)\n",
    "df"
   ]
  },
  {
   "cell_type": "code",
   "execution_count": 41,
   "id": "4f7bfe0b",
   "metadata": {
    "ExecuteTime": {
     "end_time": "2021-12-21T07:49:42.731022Z",
     "start_time": "2021-12-21T07:49:42.722966Z"
    }
   },
   "outputs": [
    {
     "data": {
      "text/html": [
       "<div>\n",
       "<style scoped>\n",
       "    .dataframe tbody tr th:only-of-type {\n",
       "        vertical-align: middle;\n",
       "    }\n",
       "\n",
       "    .dataframe tbody tr th {\n",
       "        vertical-align: top;\n",
       "    }\n",
       "\n",
       "    .dataframe thead th {\n",
       "        text-align: right;\n",
       "    }\n",
       "</style>\n",
       "<table border=\"1\" class=\"dataframe\">\n",
       "  <thead>\n",
       "    <tr style=\"text-align: right;\">\n",
       "      <th></th>\n",
       "      <th>거래소코드</th>\n",
       "    </tr>\n",
       "  </thead>\n",
       "  <tbody>\n",
       "    <tr>\n",
       "      <th>0</th>\n",
       "      <td>000360</td>\n",
       "    </tr>\n",
       "    <tr>\n",
       "      <th>1</th>\n",
       "      <td>000830</td>\n",
       "    </tr>\n",
       "    <tr>\n",
       "      <th>2</th>\n",
       "      <td>001300</td>\n",
       "    </tr>\n",
       "    <tr>\n",
       "      <th>3</th>\n",
       "      <td>001310</td>\n",
       "    </tr>\n",
       "    <tr>\n",
       "      <th>4</th>\n",
       "      <td>001370</td>\n",
       "    </tr>\n",
       "    <tr>\n",
       "      <th>...</th>\n",
       "      <td>...</td>\n",
       "    </tr>\n",
       "    <tr>\n",
       "      <th>267</th>\n",
       "      <td>900060</td>\n",
       "    </tr>\n",
       "    <tr>\n",
       "      <th>268</th>\n",
       "      <td>900150</td>\n",
       "    </tr>\n",
       "    <tr>\n",
       "      <th>269</th>\n",
       "      <td>950010</td>\n",
       "    </tr>\n",
       "    <tr>\n",
       "      <th>270</th>\n",
       "      <td>950030</td>\n",
       "    </tr>\n",
       "    <tr>\n",
       "      <th>271</th>\n",
       "      <td>950070</td>\n",
       "    </tr>\n",
       "  </tbody>\n",
       "</table>\n",
       "<p>272 rows × 1 columns</p>\n",
       "</div>"
      ],
      "text/plain": [
       "      거래소코드\n",
       "0    000360\n",
       "1    000830\n",
       "2    001300\n",
       "3    001310\n",
       "4    001370\n",
       "..      ...\n",
       "267  900060\n",
       "268  900150\n",
       "269  950010\n",
       "270  950030\n",
       "271  950070\n",
       "\n",
       "[272 rows x 1 columns]"
      ]
     },
     "execution_count": 41,
     "metadata": {},
     "output_type": "execute_result"
    }
   ],
   "source": [
    "# DART 공시를 활용하여 직접 부도 여부를 조사함(ex:합병 등은 부도에서 제외)\n",
    "li = np.array(df.index)\n",
    "dff = pd.DataFrame(li, columns = ['거래소코드'])\n",
    "dff"
   ]
  },
  {
   "cell_type": "code",
   "execution_count": 58,
   "id": "696fe5da",
   "metadata": {
    "ExecuteTime": {
     "end_time": "2021-12-21T08:00:18.393225Z",
     "start_time": "2021-12-21T08:00:18.326029Z"
    }
   },
   "outputs": [
    {
     "data": {
      "text/plain": [
       "1.0    343\n",
       "Name: 부도여부, dtype: int64"
      ]
     },
     "execution_count": 58,
     "metadata": {},
     "output_type": "execute_result"
    }
   ],
   "source": [
    "# 중간에 데이터의 변경으로 지난 수작업 자료에서 부도 라벨링 한 것 중 중복되는 것을 가져와 불필요한 작업을 피하기 위한 코딩\n",
    "# 부도라벨링으로 부도확정된 기업을 가져옴\n",
    "pezi = pd.read_excel('전체 폐지사(부도데이터).xlsx', header = None)\n",
    "pezi.rename(columns = {0 : 'index', 1 : '거래소코드', 2 : '부도여부',\n",
    "                      3 : '회계년도', 4 : '폐지사유'}, inplace = True)\n",
    "\n",
    "pezi.drop(columns = {'index', '회계년도', '폐지사유'}, axis = 1, inplace = True)\n",
    "pezi.거래소코드 = pezi.거래소코드.astype('int')\n",
    "pezi.거래소코드 = pezi.거래소코드.map('{:06d}'.format)\n",
    "pezi.set_index(['거래소코드'], inplace = True)\n",
    "pezi.부도여부.value_counts()"
   ]
  },
  {
   "cell_type": "code",
   "execution_count": 59,
   "id": "13cfac28",
   "metadata": {
    "ExecuteTime": {
     "end_time": "2021-12-21T08:00:30.751007Z",
     "start_time": "2021-12-21T08:00:30.747314Z"
    }
   },
   "outputs": [
    {
     "data": {
      "text/plain": [
       "Index(['000360', '000830', '001300', '001310', '001370', '001830', '001950',\n",
       "       '002530', '003040', '003600',\n",
       "       ...\n",
       "       '222520', '224090', '900010', '900020', '900030', '900060', '900150',\n",
       "       '950010', '950030', '950070'],\n",
       "      dtype='object', name='거래소코드', length=272)"
      ]
     },
     "execution_count": 59,
     "metadata": {},
     "output_type": "execute_result"
    }
   ],
   "source": [
    "df.index"
   ]
  },
  {
   "cell_type": "code",
   "execution_count": 60,
   "id": "1e72b9b7",
   "metadata": {
    "ExecuteTime": {
     "end_time": "2021-12-21T08:00:36.865362Z",
     "start_time": "2021-12-21T08:00:36.861678Z"
    }
   },
   "outputs": [
    {
     "data": {
      "text/plain": [
       "Index(['001950', '002530', '004230', '004550', '008080', '010670', '011800',\n",
       "       '012460', '014420', '014900',\n",
       "       ...\n",
       "       '077960', '036210', '007490', '014590', '057330', '008320', '045760',\n",
       "       '006440', '058480', '011720'],\n",
       "      dtype='object', name='거래소코드', length=343)"
      ]
     },
     "execution_count": 60,
     "metadata": {},
     "output_type": "execute_result"
    }
   ],
   "source": [
    "pezi.index"
   ]
  },
  {
   "cell_type": "code",
   "execution_count": 65,
   "id": "922e3689",
   "metadata": {
    "ExecuteTime": {
     "end_time": "2021-12-21T08:03:18.767844Z",
     "start_time": "2021-12-21T08:03:18.759793Z"
    }
   },
   "outputs": [
    {
     "data": {
      "text/html": [
       "<div>\n",
       "<style scoped>\n",
       "    .dataframe tbody tr th:only-of-type {\n",
       "        vertical-align: middle;\n",
       "    }\n",
       "\n",
       "    .dataframe tbody tr th {\n",
       "        vertical-align: top;\n",
       "    }\n",
       "\n",
       "    .dataframe thead th {\n",
       "        text-align: right;\n",
       "    }\n",
       "</style>\n",
       "<table border=\"1\" class=\"dataframe\">\n",
       "  <thead>\n",
       "    <tr style=\"text-align: right;\">\n",
       "      <th></th>\n",
       "      <th>index</th>\n",
       "    </tr>\n",
       "    <tr>\n",
       "      <th>거래소코드</th>\n",
       "      <th></th>\n",
       "    </tr>\n",
       "  </thead>\n",
       "  <tbody>\n",
       "    <tr>\n",
       "      <th>001950</th>\n",
       "      <td>6</td>\n",
       "    </tr>\n",
       "    <tr>\n",
       "      <th>002530</th>\n",
       "      <td>7</td>\n",
       "    </tr>\n",
       "    <tr>\n",
       "      <th>004230</th>\n",
       "      <td>14</td>\n",
       "    </tr>\n",
       "    <tr>\n",
       "      <th>004550</th>\n",
       "      <td>15</td>\n",
       "    </tr>\n",
       "    <tr>\n",
       "      <th>008080</th>\n",
       "      <td>22</td>\n",
       "    </tr>\n",
       "    <tr>\n",
       "      <th>...</th>\n",
       "      <td>...</td>\n",
       "    </tr>\n",
       "    <tr>\n",
       "      <th>900060</th>\n",
       "      <td>267</td>\n",
       "    </tr>\n",
       "    <tr>\n",
       "      <th>900150</th>\n",
       "      <td>268</td>\n",
       "    </tr>\n",
       "    <tr>\n",
       "      <th>950010</th>\n",
       "      <td>269</td>\n",
       "    </tr>\n",
       "    <tr>\n",
       "      <th>950030</th>\n",
       "      <td>270</td>\n",
       "    </tr>\n",
       "    <tr>\n",
       "      <th>950070</th>\n",
       "      <td>271</td>\n",
       "    </tr>\n",
       "  </tbody>\n",
       "</table>\n",
       "<p>162 rows × 1 columns</p>\n",
       "</div>"
      ],
      "text/plain": [
       "        index\n",
       "거래소코드        \n",
       "001950      6\n",
       "002530      7\n",
       "004230     14\n",
       "004550     15\n",
       "008080     22\n",
       "...       ...\n",
       "900060    267\n",
       "900150    268\n",
       "950010    269\n",
       "950030    270\n",
       "950070    271\n",
       "\n",
       "[162 rows x 1 columns]"
      ]
     },
     "execution_count": 65,
     "metadata": {},
     "output_type": "execute_result"
    }
   ],
   "source": [
    "# 부도를 확정시킨 기업 데이터(pezi)를 활용하여 DART 공시와 비교할 기업의 데이터 수를 줄임\n",
    "a = df[df.index.isin(pezi.index)==True]\n",
    "a.index = a.index.astype('int')\n",
    "a.index = a.index.map('{:06d}'.format)\n",
    "a"
   ]
  },
  {
   "cell_type": "code",
   "execution_count": 71,
   "id": "3dc6bcfe",
   "metadata": {
    "ExecuteTime": {
     "end_time": "2021-12-21T08:24:40.102916Z",
     "start_time": "2021-12-21T08:24:40.099644Z"
    }
   },
   "outputs": [],
   "source": [
    "a.to_csv('폐지사추가.xlsx')\n",
    "# 이후 각 새로운 열을 만들어 각 폐지사마다 부도여부를 DART공시와 비교해가며 라벨링을 하고\n",
    "# '폐지사1207'파일을 만듦"
   ]
  },
  {
   "cell_type": "code",
   "execution_count": null,
   "id": "b505ecfd",
   "metadata": {},
   "outputs": [],
   "source": []
  }
 ],
 "metadata": {
  "kernelspec": {
   "display_name": "Python 3 (ipykernel)",
   "language": "python",
   "name": "python3"
  },
  "language_info": {
   "codemirror_mode": {
    "name": "ipython",
    "version": 3
   },
   "file_extension": ".py",
   "mimetype": "text/x-python",
   "name": "python",
   "nbconvert_exporter": "python",
   "pygments_lexer": "ipython3",
   "version": "3.8.8"
  },
  "toc": {
   "base_numbering": 1,
   "nav_menu": {},
   "number_sections": true,
   "sideBar": true,
   "skip_h1_title": false,
   "title_cell": "Table of Contents",
   "title_sidebar": "Contents",
   "toc_cell": false,
   "toc_position": {},
   "toc_section_display": true,
   "toc_window_display": false
  },
  "varInspector": {
   "cols": {
    "lenName": 16,
    "lenType": 16,
    "lenVar": 40
   },
   "kernels_config": {
    "python": {
     "delete_cmd_postfix": "",
     "delete_cmd_prefix": "del ",
     "library": "var_list.py",
     "varRefreshCmd": "print(var_dic_list())"
    },
    "r": {
     "delete_cmd_postfix": ") ",
     "delete_cmd_prefix": "rm(",
     "library": "var_list.r",
     "varRefreshCmd": "cat(var_dic_list()) "
    }
   },
   "types_to_exclude": [
    "module",
    "function",
    "builtin_function_or_method",
    "instance",
    "_Feature"
   ],
   "window_display": false
  }
 },
 "nbformat": 4,
 "nbformat_minor": 5
}
